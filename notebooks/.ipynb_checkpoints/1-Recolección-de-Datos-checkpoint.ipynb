{
 "cells": [
  {
   "cell_type": "code",
   "execution_count": 1,
   "id": "cd2212c1-3bb5-4c4d-ac32-5abd433be592",
   "metadata": {},
   "outputs": [],
   "source": [
    "# Importar librerías necesarias\n",
    "import praw\n",
    "import pandas as pd\n",
    "import re\n",
    "import csv"
   ]
  },
  {
   "cell_type": "code",
   "execution_count": 2,
   "id": "79a4e1f4-a881-48ec-8ca9-87bd13f428e4",
   "metadata": {},
   "outputs": [],
   "source": [
    "CLIENT_ID = \"\"\n",
    "CLIENT_SECRET = \"\"\n",
    "SUBREDDITS = [\"Paraguay\"]\n",
    "USER_AGENT = \"Reddit Paraguay\"\n",
    "REDDIT_USERNAME = \"\"\n",
    "REDDIT_PASSWORD = \"\""
   ]
  },
  {
   "cell_type": "markdown",
   "id": "568afd41-e9c7-4ec2-b074-3f023312f0eb",
   "metadata": {},
   "source": [
    "# Guardar posts de r/Paraguay relacionados a criptomonedas"
   ]
  },
  {
   "cell_type": "code",
   "execution_count": 3,
   "id": "4be3f0bb-319c-42d5-920f-9cfa0cb701ac",
   "metadata": {},
   "outputs": [],
   "source": [
    "# Crear una instancia autenticada del cliente de Reddit\n",
    "reddit = praw.Reddit(\n",
    "    client_id=CLIENT_ID,\n",
    "    client_secret=CLIENT_SECRET,\n",
    "    user_agent=USER_AGENT,\n",
    "    username=REDDIT_USERNAME,\n",
    "    password=REDDIT_PASSWORD,\n",
    "    check_for_async=False\n",
    ")"
   ]
  },
  {
   "cell_type": "code",
   "execution_count": 4,
   "id": "c9daef6b-d3cb-4ee7-9210-1579f5f5c033",
   "metadata": {},
   "outputs": [],
   "source": [
    "# Definir palabras clave relacionadas a criptomonedas\n",
    "CRYPTO_KEYWORDS = [\n",
    "    \"cripto\", \"criptomonedas\", \"bitcoin\", \"ethereum\", \"eth\",\n",
    "    \"btc\", \"blockchain\", \"web3\", \"nft\", \"defi\", \"crypto\", \"minería\", \"minar\"\n",
    "]"
   ]
  },
  {
   "cell_type": "code",
   "execution_count": 5,
   "id": "535405c6-e0b9-4646-8e35-35330f9c7bd3",
   "metadata": {},
   "outputs": [
    {
     "name": "stdout",
     "output_type": "stream",
     "text": [
      "Se guardaron 194 posts en 'posts_cripto_paraguay.csv'\n"
     ]
    }
   ],
   "source": [
    "def search_crypto_posts(reddit, subreddit_name, keywords):\n",
    "    resultados = []\n",
    "    subreddit = reddit.subreddit(subreddit_name)\n",
    "\n",
    "    for keyword in keywords:\n",
    "        query = f'title:{keyword} OR selftext:{keyword}'\n",
    "        for post in subreddit.search(query, sort=\"new\", time_filter=\"all\", limit=None):\n",
    "            title = post.title.strip()\n",
    "            body = post.selftext.strip() if post.selftext else \"(sin texto)\"\n",
    "\n",
    "            # Limpiar texto para quitar links (opcional)\n",
    "            body = re.sub(r'http\\S+', '', body)\n",
    "            title = re.sub(r'http\\S+', '', title)\n",
    "\n",
    "            resultados.append({\n",
    "                \"titulo\": title,\n",
    "                \"cuerpo\": body\n",
    "            })\n",
    "    \n",
    "    return resultados\n",
    "\n",
    "# Ejecutar búsqueda\n",
    "posts = search_crypto_posts(reddit, \"Paraguay\", CRYPTO_KEYWORDS)\n",
    "\n",
    "# Guardar resultados en CSV\n",
    "csv_file = \"posts_cripto_paraguay.csv\"\n",
    "with open(csv_file, mode=\"w\", newline=\"\", encoding=\"utf-8\") as file:\n",
    "    writer = csv.DictWriter(file, fieldnames=[\"titulo\", \"cuerpo\"])\n",
    "    writer.writeheader()\n",
    "    for post in posts:\n",
    "        writer.writerow(post)\n",
    "\n",
    "print(f\"Se guardaron {len(posts)} posts en '{csv_file}'\")"
   ]
  },
  {
   "cell_type": "markdown",
   "id": "e61614b9-436a-47bf-97d1-e83e3d1ac320",
   "metadata": {},
   "source": [
    "# Explorar los datos almacenados"
   ]
  },
  {
   "cell_type": "code",
   "execution_count": 6,
   "id": "d9d4aecc-8089-4932-9c70-af8ac08c7d07",
   "metadata": {},
   "outputs": [],
   "source": [
    "df = pd.read_csv(csv_file)"
   ]
  },
  {
   "cell_type": "code",
   "execution_count": 7,
   "id": "864a881a-e231-43b1-bddb-cc61dfaf5a25",
   "metadata": {},
   "outputs": [
    {
     "name": "stdout",
     "output_type": "stream",
     "text": [
      "<class 'pandas.core.frame.DataFrame'>\n",
      "RangeIndex: 194 entries, 0 to 193\n",
      "Data columns (total 2 columns):\n",
      " #   Column  Non-Null Count  Dtype \n",
      "---  ------  --------------  ----- \n",
      " 0   titulo  194 non-null    object\n",
      " 1   cuerpo  194 non-null    object\n",
      "dtypes: object(2)\n",
      "memory usage: 3.2+ KB\n"
     ]
    }
   ],
   "source": [
    "df.info()"
   ]
  },
  {
   "cell_type": "code",
   "execution_count": 8,
   "id": "1d5251e5-a692-45ac-ba4f-3f16b45d9e8b",
   "metadata": {},
   "outputs": [],
   "source": [
    "pd.set_option(\"display.max_colwidth\", None)"
   ]
  },
  {
   "cell_type": "code",
   "execution_count": 9,
   "id": "9d97ae1f-3550-4832-9d7a-f34f9facaf03",
   "metadata": {},
   "outputs": [
    {
     "data": {
      "text/html": [
       "<div>\n",
       "<style scoped>\n",
       "    .dataframe tbody tr th:only-of-type {\n",
       "        vertical-align: middle;\n",
       "    }\n",
       "\n",
       "    .dataframe tbody tr th {\n",
       "        vertical-align: top;\n",
       "    }\n",
       "\n",
       "    .dataframe thead th {\n",
       "        text-align: right;\n",
       "    }\n",
       "</style>\n",
       "<table border=\"1\" class=\"dataframe\">\n",
       "  <thead>\n",
       "    <tr style=\"text-align: right;\">\n",
       "      <th></th>\n",
       "      <th>titulo</th>\n",
       "      <th>cuerpo</th>\n",
       "    </tr>\n",
       "  </thead>\n",
       "  <tbody>\n",
       "    <tr>\n",
       "      <th>0</th>\n",
       "      <td>Trading en Tiktok</td>\n",
       "      <td>Que onda derrepente cada vairo que ofrece su curso, antes co el novio de la onichan nms era pesado pero ahora se reproducieron   Hasta ese man que hacía tiktok de macanadas en el mercado 4 co hace TRADING, después esta ese Aquino que con un cripto cada tanto gua’u efectivizar y para colmo tiene gente boba que comenta toda la hora brooo líder espectacular quiero entrar al curso🙏🙏 tenes que irte de viaje también a dubai vos líder 🙏🙏🙏, se están volviendo peor que los colorados</td>\n",
       "    </tr>\n",
       "    <tr>\n",
       "      <th>1</th>\n",
       "      <td>Percibir salario desde trabajo remoto</td>\n",
       "      <td>Hola, el próximo mes empezaré a trabajar remoto para una multinacional extranjera. Puedo cobrar en USD o en cripto... Ustedes que todo lo saben... ¿Cuál es la mejor opción?\\nSi es en USD, ¿qué bancos recomiendan y por qué?  \\nSi es en cripto, ¿qué billeteras recomiendan y por qué?\\n  ¿Sería buena idea cobrar una parte en USD y el resto en cripto? Compartan su experiencia /tips</td>\n",
       "    </tr>\n",
       "    <tr>\n",
       "      <th>2</th>\n",
       "      <td>Apple gift cards</td>\n",
       "      <td>Tengo 400$ en Apple gift cards y quiero vender. Ya sea transferencia o cripto. \\nVendo 100$ de gift cards por 95$</td>\n",
       "    </tr>\n",
       "    <tr>\n",
       "      <th>3</th>\n",
       "      <td>Recibir pagos del exterior sin tener problemas con Set</td>\n",
       "      <td>Como paraguayo cual es la manera más simple de cobrar por trabajos que sea compatible freelancer y fiverr? Sin tener que hacer jugadas de convertir la plata a cripto, luego a euros y luego a guaraníes?</td>\n",
       "    </tr>\n",
       "    <tr>\n",
       "      <th>4</th>\n",
       "      <td>Tarjetas de credito cobrando en cripto</td>\n",
       "      <td>Alguien sabe si hay alguna forma de que ciertos bancos me habiliten tarjetas de credito si cobro en cripto?  Trabajo para una empresa de afuera y cobro en dolares, para ahorrarme gastos cobro en cripto pero ulltimamente estoy queriendo quitar tarjetas de credito y no se como poder blanquear eso, consejos?</td>\n",
       "    </tr>\n",
       "  </tbody>\n",
       "</table>\n",
       "</div>"
      ],
      "text/plain": [
       "                                                   titulo  \\\n",
       "0                                       Trading en Tiktok   \n",
       "1                   Percibir salario desde trabajo remoto   \n",
       "2                                        Apple gift cards   \n",
       "3  Recibir pagos del exterior sin tener problemas con Set   \n",
       "4                  Tarjetas de credito cobrando en cripto   \n",
       "\n",
       "                                                                                                                                                                                                                                                                                                                                                                                                                                                                                           cuerpo  \n",
       "0  Que onda derrepente cada vairo que ofrece su curso, antes co el novio de la onichan nms era pesado pero ahora se reproducieron   Hasta ese man que hacía tiktok de macanadas en el mercado 4 co hace TRADING, después esta ese Aquino que con un cripto cada tanto gua’u efectivizar y para colmo tiene gente boba que comenta toda la hora brooo líder espectacular quiero entrar al curso🙏🙏 tenes que irte de viaje también a dubai vos líder 🙏🙏🙏, se están volviendo peor que los colorados  \n",
       "1                                                                                                     Hola, el próximo mes empezaré a trabajar remoto para una multinacional extranjera. Puedo cobrar en USD o en cripto... Ustedes que todo lo saben... ¿Cuál es la mejor opción?\\nSi es en USD, ¿qué bancos recomiendan y por qué?  \\nSi es en cripto, ¿qué billeteras recomiendan y por qué?\\n  ¿Sería buena idea cobrar una parte en USD y el resto en cripto? Compartan su experiencia /tips  \n",
       "2                                                                                                                                                                                                                                                                                                                                                                               Tengo 400$ en Apple gift cards y quiero vender. Ya sea transferencia o cripto. \\nVendo 100$ de gift cards por 95$  \n",
       "3                                                                                                                                                                                                                                                                                       Como paraguayo cual es la manera más simple de cobrar por trabajos que sea compatible freelancer y fiverr? Sin tener que hacer jugadas de convertir la plata a cripto, luego a euros y luego a guaraníes?  \n",
       "4                                                                                                                                                                              Alguien sabe si hay alguna forma de que ciertos bancos me habiliten tarjetas de credito si cobro en cripto?  Trabajo para una empresa de afuera y cobro en dolares, para ahorrarme gastos cobro en cripto pero ulltimamente estoy queriendo quitar tarjetas de credito y no se como poder blanquear eso, consejos?  "
      ]
     },
     "execution_count": 9,
     "metadata": {},
     "output_type": "execute_result"
    }
   ],
   "source": [
    "df.head(5)"
   ]
  },
  {
   "cell_type": "markdown",
   "id": "196628a4-73b4-4c96-8176-444addc81f03",
   "metadata": {},
   "source": [
    "# Criterios de etiqueta de datos [POSITIVO | NEGATIVO | NEUTRAL | NO RELEVANTE]"
   ]
  },
  {
   "cell_type": "code",
   "execution_count": 10,
   "id": "05628aca-a7ea-4bfa-8b00-9501f7155543",
   "metadata": {},
   "outputs": [
    {
     "data": {
      "text/html": [
       "<div>\n",
       "<style scoped>\n",
       "    .dataframe tbody tr th:only-of-type {\n",
       "        vertical-align: middle;\n",
       "    }\n",
       "\n",
       "    .dataframe tbody tr th {\n",
       "        vertical-align: top;\n",
       "    }\n",
       "\n",
       "    .dataframe thead th {\n",
       "        text-align: right;\n",
       "    }\n",
       "</style>\n",
       "<table border=\"1\" class=\"dataframe\">\n",
       "  <thead>\n",
       "    <tr style=\"text-align: right;\">\n",
       "      <th></th>\n",
       "      <th>Etiqueta</th>\n",
       "      <th>Significado</th>\n",
       "      <th>Indicadores clave</th>\n",
       "    </tr>\n",
       "  </thead>\n",
       "  <tbody>\n",
       "    <tr>\n",
       "      <th>0</th>\n",
       "      <td>Positivo</td>\n",
       "      <td>Muestra entusiasmo, interés o experiencias positivas sobre cripto</td>\n",
       "      <td>Palabras como 'bueno, rentable, útil, líder, espectacular'</td>\n",
       "    </tr>\n",
       "    <tr>\n",
       "      <th>1</th>\n",
       "      <td>Negativo</td>\n",
       "      <td>Muestra frustración, desconfianza, crítica o experiencias negativas</td>\n",
       "      <td>Palabras como 'estafado, complicado, ilegal, peor, problema'</td>\n",
       "    </tr>\n",
       "    <tr>\n",
       "      <th>2</th>\n",
       "      <td>Neutral</td>\n",
       "      <td>No expresa emoción clara; es solo una consulta, hecho o mención superficial</td>\n",
       "      <td>Preguntas abiertas, comparaciones, sin juicio emocional claro</td>\n",
       "    </tr>\n",
       "    <tr>\n",
       "      <th>3</th>\n",
       "      <td>No relevante</td>\n",
       "      <td>Habla de otro tema y menciona cripto tangencialmente o no es una opinión</td>\n",
       "      <td>Solo incluye cripto como medio de pago, títulos sin contexto</td>\n",
       "    </tr>\n",
       "  </tbody>\n",
       "</table>\n",
       "</div>"
      ],
      "text/plain": [
       "       Etiqueta  \\\n",
       "0      Positivo   \n",
       "1      Negativo   \n",
       "2       Neutral   \n",
       "3  No relevante   \n",
       "\n",
       "                                                                   Significado  \\\n",
       "0            Muestra entusiasmo, interés o experiencias positivas sobre cripto   \n",
       "1          Muestra frustración, desconfianza, crítica o experiencias negativas   \n",
       "2  No expresa emoción clara; es solo una consulta, hecho o mención superficial   \n",
       "3     Habla de otro tema y menciona cripto tangencialmente o no es una opinión   \n",
       "\n",
       "                                               Indicadores clave  \n",
       "0     Palabras como 'bueno, rentable, útil, líder, espectacular'  \n",
       "1   Palabras como 'estafado, complicado, ilegal, peor, problema'  \n",
       "2  Preguntas abiertas, comparaciones, sin juicio emocional claro  \n",
       "3   Solo incluye cripto como medio de pago, títulos sin contexto  "
      ]
     },
     "execution_count": 10,
     "metadata": {},
     "output_type": "execute_result"
    }
   ],
   "source": [
    "criterios = {\n",
    "    \"Etiqueta\": [\"Positivo\", \"Negativo\", \"Neutral\", \"No relevante\"],\n",
    "    \"Significado\": [\n",
    "        \"Muestra entusiasmo, interés o experiencias positivas sobre cripto\",\n",
    "        \"Muestra frustración, desconfianza, crítica o experiencias negativas\",\n",
    "        \"No expresa emoción clara; es solo una consulta, hecho o mención superficial\",\n",
    "        \"Habla de otro tema y menciona cripto tangencialmente o no es una opinión\"\n",
    "    ],\n",
    "    \"Indicadores clave\": [\n",
    "        \"Palabras como 'bueno, rentable, útil, líder, espectacular'\",\n",
    "        \"Palabras como 'estafado, complicado, ilegal, peor, problema'\",\n",
    "        \"Preguntas abiertas, comparaciones, sin juicio emocional claro\",\n",
    "        \"Solo incluye cripto como medio de pago, títulos sin contexto\"\n",
    "    ]\n",
    "}\n",
    "\n",
    "df_criterios = pd.DataFrame(criterios)\n",
    "df_criterios"
   ]
  },
  {
   "cell_type": "code",
   "execution_count": null,
   "id": "aa6352d0-a58d-4648-96f4-f97ae6c4483d",
   "metadata": {},
   "outputs": [],
   "source": []
  }
 ],
 "metadata": {
  "kernelspec": {
   "display_name": "Python 3 (ipykernel)",
   "language": "python",
   "name": "python3"
  },
  "language_info": {
   "codemirror_mode": {
    "name": "ipython",
    "version": 3
   },
   "file_extension": ".py",
   "mimetype": "text/x-python",
   "name": "python",
   "nbconvert_exporter": "python",
   "pygments_lexer": "ipython3",
   "version": "3.13.3"
  }
 },
 "nbformat": 4,
 "nbformat_minor": 5
}
