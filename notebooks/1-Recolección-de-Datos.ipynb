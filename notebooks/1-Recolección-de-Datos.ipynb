{
 "cells": [
  {
   "cell_type": "code",
   "execution_count": 30,
   "id": "cd2212c1-3bb5-4c4d-ac32-5abd433be592",
   "metadata": {},
   "outputs": [],
   "source": [
    "# Importar librerías necesarias\n",
    "import os\n",
    "import praw\n",
    "import pandas as pd\n",
    "import re\n",
    "import csv"
   ]
  },
  {
   "cell_type": "code",
   "execution_count": 31,
   "id": "79a4e1f4-a881-48ec-8ca9-87bd13f428e4",
   "metadata": {},
   "outputs": [],
   "source": [
    "# Cargar credenciales\n",
    "CLIENT_ID = os.getenv(\"CLIENT_ID\")\n",
    "CLIENT_SECRET = os.getenv(\"CLIENT_SECRET\")\n",
    "REDDIT_USERNAME = os.getenv(\"REDDIT_USERNAME\")\n",
    "REDDIT_PASSWORD = os.getenv(\"REDDIT_PASSWORD\")\n",
    "\n",
    "SUBREDDITS = [\"Paraguay\"]\n",
    "USER_AGENT = \"Reddit Paraguay\""
   ]
  },
  {
   "cell_type": "markdown",
   "id": "568afd41-e9c7-4ec2-b074-3f023312f0eb",
   "metadata": {},
   "source": [
    "# Guardar posts de r/Paraguay relacionados a criptomonedas"
   ]
  },
  {
   "cell_type": "code",
   "execution_count": 32,
   "id": "4be3f0bb-319c-42d5-920f-9cfa0cb701ac",
   "metadata": {},
   "outputs": [],
   "source": [
    "# Crear una instancia autenticada del cliente de Reddit\n",
    "reddit = praw.Reddit(\n",
    "    client_id=CLIENT_ID,\n",
    "    client_secret=CLIENT_SECRET,\n",
    "    user_agent=USER_AGENT,\n",
    "    username=REDDIT_USERNAME,\n",
    "    password=REDDIT_PASSWORD,\n",
    "    check_for_async=False\n",
    ")"
   ]
  },
  {
   "cell_type": "code",
   "execution_count": 33,
   "id": "c9daef6b-d3cb-4ee7-9210-1579f5f5c033",
   "metadata": {},
   "outputs": [],
   "source": [
    "# Definir palabras clave relacionadas a criptomonedas\n",
    "CRYPTO_KEYWORDS = [\n",
    "    \"cripto\", \"criptomonedas\", \"bitcoin\", \"ethereum\", \"eth\",\n",
    "    \"btc\", \"blockchain\", \"web3\", \"nft\", \"defi\", \"crypto\", \"minería\", \"minar\",\n",
    "    \"p2p\"\n",
    "]"
   ]
  },
  {
   "cell_type": "code",
   "execution_count": 34,
   "id": "535405c6-e0b9-4646-8e35-35330f9c7bd3",
   "metadata": {},
   "outputs": [
    {
     "name": "stdout",
     "output_type": "stream",
     "text": [
      "Se guardaron 187 posts en 'data/posts_cripto_paraguay.csv'\n"
     ]
    }
   ],
   "source": [
    "def search_crypto_posts(reddit, subreddit_name, keywords):\n",
    "    resultados = []\n",
    "    subreddit = reddit.subreddit(subreddit_name)\n",
    "\n",
    "    for keyword in keywords:\n",
    "        query = f'title:{keyword} OR selftext:{keyword}'\n",
    "        for post in subreddit.search(query, sort=\"new\", time_filter=\"all\", limit=None):\n",
    "            title = post.title.strip()\n",
    "            body = post.selftext.strip() if post.selftext else \"(sin texto)\"\n",
    "\n",
    "            # Limpiar texto para quitar links (opcional)\n",
    "            body = re.sub(r'http\\S+', '', body)\n",
    "            title = re.sub(r'http\\S+', '', title)\n",
    "\n",
    "            resultados.append({\n",
    "                \"titulo\": title,\n",
    "                \"cuerpo\": body\n",
    "            })\n",
    "    \n",
    "    return resultados\n",
    "\n",
    "# Ejecutar búsqueda\n",
    "posts = search_crypto_posts(reddit, \"Paraguay\", CRYPTO_KEYWORDS)\n",
    "\n",
    "# Guardar resultados en CSV\n",
    "csv_file = \"data/posts_cripto_paraguay.csv\"\n",
    "with open(csv_file, mode=\"w\", newline=\"\", encoding=\"utf-8\") as file:\n",
    "    writer = csv.DictWriter(file, fieldnames=[\"titulo\", \"cuerpo\"])\n",
    "    writer.writeheader()\n",
    "    for post in posts:\n",
    "        writer.writerow(post)\n",
    "\n",
    "print(f\"Se guardaron {len(posts)} posts en '{csv_file}'\")"
   ]
  },
  {
   "cell_type": "markdown",
   "id": "e61614b9-436a-47bf-97d1-e83e3d1ac320",
   "metadata": {},
   "source": [
    "# Explorar los datos almacenados"
   ]
  },
  {
   "cell_type": "code",
   "execution_count": 35,
   "id": "d9d4aecc-8089-4932-9c70-af8ac08c7d07",
   "metadata": {},
   "outputs": [
    {
     "name": "stdout",
     "output_type": "stream",
     "text": [
      "<class 'pandas.core.frame.DataFrame'>\n",
      "Index: 140 entries, 0 to 186\n",
      "Data columns (total 2 columns):\n",
      " #   Column  Non-Null Count  Dtype \n",
      "---  ------  --------------  ----- \n",
      " 0   titulo  140 non-null    object\n",
      " 1   cuerpo  140 non-null    object\n",
      "dtypes: object(2)\n",
      "memory usage: 3.3+ KB\n"
     ]
    }
   ],
   "source": [
    "df = pd.read_csv(csv_file)\n",
    "df = df.drop_duplicates()\n",
    "df.info()"
   ]
  },
  {
   "cell_type": "code",
   "execution_count": 36,
   "id": "864a881a-e231-43b1-bddb-cc61dfaf5a25",
   "metadata": {},
   "outputs": [],
   "source": [
    "# Guardar el archivo sin duplicados\n",
    "csv_file = \"data/posts_cripto_paraguay.csv\"\n",
    "df.to_csv(csv_file)"
   ]
  },
  {
   "cell_type": "code",
   "execution_count": 37,
   "id": "1d5251e5-a692-45ac-ba4f-3f16b45d9e8b",
   "metadata": {},
   "outputs": [],
   "source": [
    "pd.set_option(\"display.max_colwidth\", None)"
   ]
  },
  {
   "cell_type": "code",
   "execution_count": 38,
   "id": "9d97ae1f-3550-4832-9d7a-f34f9facaf03",
   "metadata": {},
   "outputs": [
    {
     "data": {
      "text/html": [
       "<div>\n",
       "<style scoped>\n",
       "    .dataframe tbody tr th:only-of-type {\n",
       "        vertical-align: middle;\n",
       "    }\n",
       "\n",
       "    .dataframe tbody tr th {\n",
       "        vertical-align: top;\n",
       "    }\n",
       "\n",
       "    .dataframe thead th {\n",
       "        text-align: right;\n",
       "    }\n",
       "</style>\n",
       "<table border=\"1\" class=\"dataframe\">\n",
       "  <thead>\n",
       "    <tr style=\"text-align: right;\">\n",
       "      <th></th>\n",
       "      <th>titulo</th>\n",
       "      <th>cuerpo</th>\n",
       "    </tr>\n",
       "  </thead>\n",
       "  <tbody>\n",
       "    <tr>\n",
       "      <th>0</th>\n",
       "      <td>Trading en Tiktok</td>\n",
       "      <td>Que onda derrepente cada vairo que ofrece su curso, antes co el novio de la onichan nms era pesado pero ahora se reproducieron   Hasta ese man que hacía tiktok de macanadas en el mercado 4 co hace TRADING, después esta ese Aquino que con un cripto cada tanto gua’u efectivizar y para colmo tiene gente boba que comenta toda la hora brooo líder espectacular quiero entrar al curso🙏🙏 tenes que irte de viaje también a dubai vos líder 🙏🙏🙏, se están volviendo peor que los colorados</td>\n",
       "    </tr>\n",
       "    <tr>\n",
       "      <th>1</th>\n",
       "      <td>Percibir salario desde trabajo remoto</td>\n",
       "      <td>Hola, el próximo mes empezaré a trabajar remoto para una multinacional extranjera. Puedo cobrar en USD o en cripto... Ustedes que todo lo saben... ¿Cuál es la mejor opción?\\nSi es en USD, ¿qué bancos recomiendan y por qué?  \\nSi es en cripto, ¿qué billeteras recomiendan y por qué?\\n  ¿Sería buena idea cobrar una parte en USD y el resto en cripto? Compartan su experiencia /tips</td>\n",
       "    </tr>\n",
       "    <tr>\n",
       "      <th>2</th>\n",
       "      <td>Apple gift cards</td>\n",
       "      <td>Tengo 400$ en Apple gift cards y quiero vender. Ya sea transferencia o cripto. \\nVendo 100$ de gift cards por 95$</td>\n",
       "    </tr>\n",
       "    <tr>\n",
       "      <th>3</th>\n",
       "      <td>Recibir pagos del exterior sin tener problemas con Set</td>\n",
       "      <td>Como paraguayo cual es la manera más simple de cobrar por trabajos que sea compatible freelancer y fiverr? Sin tener que hacer jugadas de convertir la plata a cripto, luego a euros y luego a guaraníes?</td>\n",
       "    </tr>\n",
       "    <tr>\n",
       "      <th>4</th>\n",
       "      <td>Tarjetas de credito cobrando en cripto</td>\n",
       "      <td>Alguien sabe si hay alguna forma de que ciertos bancos me habiliten tarjetas de credito si cobro en cripto?  Trabajo para una empresa de afuera y cobro en dolares, para ahorrarme gastos cobro en cripto pero ulltimamente estoy queriendo quitar tarjetas de credito y no se como poder blanquear eso, consejos?</td>\n",
       "    </tr>\n",
       "  </tbody>\n",
       "</table>\n",
       "</div>"
      ],
      "text/plain": [
       "                                                   titulo  \\\n",
       "0                                       Trading en Tiktok   \n",
       "1                   Percibir salario desde trabajo remoto   \n",
       "2                                        Apple gift cards   \n",
       "3  Recibir pagos del exterior sin tener problemas con Set   \n",
       "4                  Tarjetas de credito cobrando en cripto   \n",
       "\n",
       "                                                                                                                                                                                                                                                                                                                                                                                                                                                                                           cuerpo  \n",
       "0  Que onda derrepente cada vairo que ofrece su curso, antes co el novio de la onichan nms era pesado pero ahora se reproducieron   Hasta ese man que hacía tiktok de macanadas en el mercado 4 co hace TRADING, después esta ese Aquino que con un cripto cada tanto gua’u efectivizar y para colmo tiene gente boba que comenta toda la hora brooo líder espectacular quiero entrar al curso🙏🙏 tenes que irte de viaje también a dubai vos líder 🙏🙏🙏, se están volviendo peor que los colorados  \n",
       "1                                                                                                     Hola, el próximo mes empezaré a trabajar remoto para una multinacional extranjera. Puedo cobrar en USD o en cripto... Ustedes que todo lo saben... ¿Cuál es la mejor opción?\\nSi es en USD, ¿qué bancos recomiendan y por qué?  \\nSi es en cripto, ¿qué billeteras recomiendan y por qué?\\n  ¿Sería buena idea cobrar una parte en USD y el resto en cripto? Compartan su experiencia /tips  \n",
       "2                                                                                                                                                                                                                                                                                                                                                                               Tengo 400$ en Apple gift cards y quiero vender. Ya sea transferencia o cripto. \\nVendo 100$ de gift cards por 95$  \n",
       "3                                                                                                                                                                                                                                                                                       Como paraguayo cual es la manera más simple de cobrar por trabajos que sea compatible freelancer y fiverr? Sin tener que hacer jugadas de convertir la plata a cripto, luego a euros y luego a guaraníes?  \n",
       "4                                                                                                                                                                              Alguien sabe si hay alguna forma de que ciertos bancos me habiliten tarjetas de credito si cobro en cripto?  Trabajo para una empresa de afuera y cobro en dolares, para ahorrarme gastos cobro en cripto pero ulltimamente estoy queriendo quitar tarjetas de credito y no se como poder blanquear eso, consejos?  "
      ]
     },
     "execution_count": 38,
     "metadata": {},
     "output_type": "execute_result"
    }
   ],
   "source": [
    "df.head(5)"
   ]
  },
  {
   "cell_type": "markdown",
   "id": "196628a4-73b4-4c96-8176-444addc81f03",
   "metadata": {},
   "source": [
    "# Criterios de etiqueta de datos [POSITIVO | NEGATIVO | NEUTRAL]"
   ]
  },
  {
   "cell_type": "code",
   "execution_count": 39,
   "id": "05628aca-a7ea-4bfa-8b00-9501f7155543",
   "metadata": {},
   "outputs": [
    {
     "data": {
      "text/html": [
       "<div>\n",
       "<style scoped>\n",
       "    .dataframe tbody tr th:only-of-type {\n",
       "        vertical-align: middle;\n",
       "    }\n",
       "\n",
       "    .dataframe tbody tr th {\n",
       "        vertical-align: top;\n",
       "    }\n",
       "\n",
       "    .dataframe thead th {\n",
       "        text-align: right;\n",
       "    }\n",
       "</style>\n",
       "<table border=\"1\" class=\"dataframe\">\n",
       "  <thead>\n",
       "    <tr style=\"text-align: right;\">\n",
       "      <th></th>\n",
       "      <th>Etiqueta</th>\n",
       "      <th>Significado</th>\n",
       "    </tr>\n",
       "  </thead>\n",
       "  <tbody>\n",
       "    <tr>\n",
       "      <th>0</th>\n",
       "      <td>Positivo</td>\n",
       "      <td>Entusiasmo, interés o experiencias positivas sobre cripto</td>\n",
       "    </tr>\n",
       "    <tr>\n",
       "      <th>1</th>\n",
       "      <td>Negativo</td>\n",
       "      <td>Frustración, desconfianza, crítica o experiencias negativas</td>\n",
       "    </tr>\n",
       "    <tr>\n",
       "      <th>2</th>\n",
       "      <td>Neutral</td>\n",
       "      <td>No expresa emoción clara; es solo una consulta, hecho o mención superficial. Habla de otro tema y menciona cripto tangencialmente o no es una opinión</td>\n",
       "    </tr>\n",
       "  </tbody>\n",
       "</table>\n",
       "</div>"
      ],
      "text/plain": [
       "   Etiqueta  \\\n",
       "0  Positivo   \n",
       "1  Negativo   \n",
       "2   Neutral   \n",
       "\n",
       "                                                                                                                                             Significado  \n",
       "0                                                                                              Entusiasmo, interés o experiencias positivas sobre cripto  \n",
       "1                                                                                            Frustración, desconfianza, crítica o experiencias negativas  \n",
       "2  No expresa emoción clara; es solo una consulta, hecho o mención superficial. Habla de otro tema y menciona cripto tangencialmente o no es una opinión  "
      ]
     },
     "execution_count": 39,
     "metadata": {},
     "output_type": "execute_result"
    }
   ],
   "source": [
    "criterios = {\n",
    "    \"Etiqueta\": [\"Positivo\", \"Negativo\", \"Neutral\"],\n",
    "    \"Significado\": [\n",
    "        \"Entusiasmo, interés o experiencias positivas sobre cripto\",\n",
    "        \"Frustración, desconfianza, crítica o experiencias negativas\",\n",
    "        \"No expresa emoción clara; es solo una consulta, hecho o mención superficial. Habla de otro tema y menciona cripto tangencialmente o no es una opinión\"\n",
    "    ]\n",
    "}\n",
    "\n",
    "df_criterios = pd.DataFrame(criterios)\n",
    "df_criterios"
   ]
  },
  {
   "cell_type": "markdown",
   "id": "365ac16d-8822-4e40-bdf6-5c7ee2fe676f",
   "metadata": {},
   "source": [
    "<hr/>"
   ]
  },
  {
   "cell_type": "code",
   "execution_count": 40,
   "id": "aa6352d0-a58d-4648-96f4-f97ae6c4483d",
   "metadata": {},
   "outputs": [
    {
     "name": "stdout",
     "output_type": "stream",
     "text": [
      "<class 'pandas.core.frame.DataFrame'>\n",
      "RangeIndex: 110 entries, 0 to 109\n",
      "Data columns (total 3 columns):\n",
      " #   Column       Non-Null Count  Dtype \n",
      "---  ------       --------------  ----- \n",
      " 0   titulo       110 non-null    object\n",
      " 1   cuerpo       110 non-null    object\n",
      " 2   sentimiento  109 non-null    object\n",
      "dtypes: object(3)\n",
      "memory usage: 2.7+ KB\n"
     ]
    }
   ],
   "source": [
    "csv_file = \"data/posts_cripto_paraguay_etiquetado.csv\"\n",
    "df_posts = pd.read_csv(csv_file, encoding=\"latin1\", sep=\";\")\n",
    "df_posts.info()"
   ]
  },
  {
   "cell_type": "code",
   "execution_count": 41,
   "id": "07977f54-0bef-41f9-a334-af7b098e7ece",
   "metadata": {},
   "outputs": [
    {
     "data": {
      "text/html": [
       "<div>\n",
       "<style scoped>\n",
       "    .dataframe tbody tr th:only-of-type {\n",
       "        vertical-align: middle;\n",
       "    }\n",
       "\n",
       "    .dataframe tbody tr th {\n",
       "        vertical-align: top;\n",
       "    }\n",
       "\n",
       "    .dataframe thead th {\n",
       "        text-align: right;\n",
       "    }\n",
       "</style>\n",
       "<table border=\"1\" class=\"dataframe\">\n",
       "  <thead>\n",
       "    <tr style=\"text-align: right;\">\n",
       "      <th></th>\n",
       "      <th>titulo</th>\n",
       "      <th>cuerpo</th>\n",
       "      <th>sentimiento</th>\n",
       "    </tr>\n",
       "  </thead>\n",
       "  <tbody>\n",
       "    <tr>\n",
       "      <th>0</th>\n",
       "      <td>Trading en Tiktok</td>\n",
       "      <td>Que onda derrepente cada vairo que ofrece su curso, antes co el novio de la onichan nms era pesado pero ahora se reproducieron   Hasta ese man que hac¡a tiktok de macanadas en el mercado 4 co hace TRADING, despus esta ese Aquino que con un cripto cada tanto gua?u efectivizar y para colmo tiene gente boba que comenta toda la hora brooo l¡der espectacular quiero entrar al curso???? tenes que irte de viaje tambin a dubai vos l¡der ??????, se est n volviendo peor que los colorados</td>\n",
       "      <td>Negativo</td>\n",
       "    </tr>\n",
       "  </tbody>\n",
       "</table>\n",
       "</div>"
      ],
      "text/plain": [
       "              titulo  \\\n",
       "0  Trading en Tiktok   \n",
       "\n",
       "                                                                                                                                                                                                                                                                                                                                                                                                                                                                                                cuerpo  \\\n",
       "0  Que onda derrepente cada vairo que ofrece su curso, antes co el novio de la onichan nms era pesado pero ahora se reproducieron   Hasta ese man que hac¡a tiktok de macanadas en el mercado 4 co hace TRADING, despus esta ese Aquino que con un cripto cada tanto gua?u efectivizar y para colmo tiene gente boba que comenta toda la hora brooo l¡der espectacular quiero entrar al curso???? tenes que irte de viaje tambin a dubai vos l¡der ??????, se est n volviendo peor que los colorados   \n",
       "\n",
       "  sentimiento  \n",
       "0    Negativo  "
      ]
     },
     "execution_count": 41,
     "metadata": {},
     "output_type": "execute_result"
    }
   ],
   "source": [
    "df_posts.head(1)"
   ]
  },
  {
   "cell_type": "code",
   "execution_count": 42,
   "id": "98b3b002-af84-4acb-ac82-1c7353e6ed01",
   "metadata": {},
   "outputs": [
    {
     "name": "stdout",
     "output_type": "stream",
     "text": [
      "<class 'pandas.core.frame.DataFrame'>\n",
      "Index: 95 entries, 0 to 108\n",
      "Data columns (total 3 columns):\n",
      " #   Column       Non-Null Count  Dtype \n",
      "---  ------       --------------  ----- \n",
      " 0   titulo       95 non-null     object\n",
      " 1   cuerpo       95 non-null     object\n",
      " 2   sentimiento  94 non-null     object\n",
      "dtypes: object(3)\n",
      "memory usage: 3.0+ KB\n"
     ]
    }
   ],
   "source": [
    "# Eliminar duplicados\n",
    "df_posts = df_posts.drop_duplicates()\n",
    "df_posts.info()"
   ]
  },
  {
   "cell_type": "code",
   "execution_count": 43,
   "id": "9cfd774c-a5ba-4883-81f0-22853e41ad3b",
   "metadata": {},
   "outputs": [
    {
     "data": {
      "text/html": [
       "<div>\n",
       "<style scoped>\n",
       "    .dataframe tbody tr th:only-of-type {\n",
       "        vertical-align: middle;\n",
       "    }\n",
       "\n",
       "    .dataframe tbody tr th {\n",
       "        vertical-align: top;\n",
       "    }\n",
       "\n",
       "    .dataframe thead th {\n",
       "        text-align: right;\n",
       "    }\n",
       "</style>\n",
       "<table border=\"1\" class=\"dataframe\">\n",
       "  <thead>\n",
       "    <tr style=\"text-align: right;\">\n",
       "      <th></th>\n",
       "      <th>titulo</th>\n",
       "      <th>cuerpo</th>\n",
       "      <th>sentimiento</th>\n",
       "    </tr>\n",
       "  </thead>\n",
       "  <tbody>\n",
       "    <tr>\n",
       "      <th>27</th>\n",
       "      <td>PayPal, crypto u otros</td>\n",
       "      <td>Buenas. Tengo el siguiente problema. Empec a trabajar online, en una plataforma que se llama Cambly. El tema es que solo pagan por PayPal. Tengo cuenta, pero entiendo que no podr retirar la plata ac  en Paraguay. Estoy viendo maneras para poder efectivizar lo que gano. Las dos opciones que tengo creo que son comprar cripto monedas con lo que me pagan a paypal, o abrir una empresa en Estonia, y de ahi poder hacerme transferencias bancarias.\\n\\n&amp;#x200B;\\n\\nHay alguna otra opcion? Estuve investigando tambien TransferWise, Neteller y Payoneer</td>\n",
       "      <td>NaN</td>\n",
       "    </tr>\n",
       "  </tbody>\n",
       "</table>\n",
       "</div>"
      ],
      "text/plain": [
       "                    titulo  \\\n",
       "27  PayPal, crypto u otros   \n",
       "\n",
       "                                                                                                                                                                                                                                                                                                                                                                                                                                                                                                                                                                cuerpo  \\\n",
       "27  Buenas. Tengo el siguiente problema. Empec a trabajar online, en una plataforma que se llama Cambly. El tema es que solo pagan por PayPal. Tengo cuenta, pero entiendo que no podr retirar la plata ac  en Paraguay. Estoy viendo maneras para poder efectivizar lo que gano. Las dos opciones que tengo creo que son comprar cripto monedas con lo que me pagan a paypal, o abrir una empresa en Estonia, y de ahi poder hacerme transferencias bancarias.\\n\\n&#x200B;\\n\\nHay alguna otra opcion? Estuve investigando tambien TransferWise, Neteller y Payoneer   \n",
       "\n",
       "   sentimiento  \n",
       "27         NaN  "
      ]
     },
     "execution_count": 43,
     "metadata": {},
     "output_type": "execute_result"
    }
   ],
   "source": [
    "df_posts[df_posts[\"sentimiento\"].isnull()]"
   ]
  }
 ],
 "metadata": {
  "kernelspec": {
   "display_name": "Python 3 (ipykernel)",
   "language": "python",
   "name": "python3"
  },
  "language_info": {
   "codemirror_mode": {
    "name": "ipython",
    "version": 3
   },
   "file_extension": ".py",
   "mimetype": "text/x-python",
   "name": "python",
   "nbconvert_exporter": "python",
   "pygments_lexer": "ipython3",
   "version": "3.13.3"
  }
 },
 "nbformat": 4,
 "nbformat_minor": 5
}
