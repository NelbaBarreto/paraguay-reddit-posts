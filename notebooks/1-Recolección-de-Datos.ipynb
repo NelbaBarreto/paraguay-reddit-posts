{
 "cells": [
  {
   "cell_type": "code",
   "execution_count": 9,
   "id": "cd2212c1-3bb5-4c4d-ac32-5abd433be592",
   "metadata": {},
   "outputs": [],
   "source": [
    "# Importar librerías necesarias\n",
    "import os\n",
    "import praw\n",
    "import pandas as pd\n",
    "import re\n",
    "import csv"
   ]
  },
  {
   "cell_type": "code",
   "execution_count": 10,
   "id": "79a4e1f4-a881-48ec-8ca9-87bd13f428e4",
   "metadata": {},
   "outputs": [],
   "source": [
    "# Cargar credenciales\n",
    "CLIENT_ID = os.getenv(\"CLIENT_ID\")\n",
    "CLIENT_SECRET = os.getenv(\"CLIENT_SECRET\")\n",
    "REDDIT_USERNAME = os.getenv(\"REDDIT_USERNAME\")\n",
    "REDDIT_PASSWORD = os.getenv(\"REDDIT_PASSWORD\")\n",
    "\n",
    "SUBREDDITS = [\"Paraguay\"]\n",
    "USER_AGENT = \"Reddit Paraguay\""
   ]
  },
  {
   "cell_type": "markdown",
   "id": "568afd41-e9c7-4ec2-b074-3f023312f0eb",
   "metadata": {},
   "source": [
    "# Guardar posts de r/Paraguay relacionados a criptomonedas"
   ]
  },
  {
   "cell_type": "code",
   "execution_count": 11,
   "id": "4be3f0bb-319c-42d5-920f-9cfa0cb701ac",
   "metadata": {},
   "outputs": [],
   "source": [
    "# Crear una instancia autenticada del cliente de Reddit\n",
    "reddit = praw.Reddit(\n",
    "    client_id=CLIENT_ID,\n",
    "    client_secret=CLIENT_SECRET,\n",
    "    user_agent=USER_AGENT,\n",
    "    username=REDDIT_USERNAME,\n",
    "    password=REDDIT_PASSWORD,\n",
    "    check_for_async=False\n",
    ")"
   ]
  },
  {
   "cell_type": "code",
   "execution_count": 12,
   "id": "c9daef6b-d3cb-4ee7-9210-1579f5f5c033",
   "metadata": {},
   "outputs": [],
   "source": [
    "# Definir palabras clave relacionadas a criptomonedas\n",
    "CRYPTO_KEYWORDS = [\n",
    "    \"cripto\", \"criptomonedas\", \"bitcoin\", \"ethereum\", \"eth\",\n",
    "    \"btc\", \"blockchain\", \"web3\", \"nft\", \"defi\", \"crypto\", \"minería\", \"minar\"\n",
    "]"
   ]
  },
  {
   "cell_type": "code",
   "execution_count": 13,
   "id": "535405c6-e0b9-4646-8e35-35330f9c7bd3",
   "metadata": {},
   "outputs": [
    {
     "name": "stdout",
     "output_type": "stream",
     "text": [
      "Se guardaron 175 posts en 'posts_cripto_paraguay.csv'\n"
     ]
    }
   ],
   "source": [
    "def search_crypto_posts(reddit, subreddit_name, keywords):\n",
    "    resultados = []\n",
    "    subreddit = reddit.subreddit(subreddit_name)\n",
    "\n",
    "    for keyword in keywords:\n",
    "        query = f'title:{keyword} OR selftext:{keyword}'\n",
    "        for post in subreddit.search(query, sort=\"new\", time_filter=\"all\", limit=None):\n",
    "            title = post.title.strip()\n",
    "            body = post.selftext.strip() if post.selftext else \"(sin texto)\"\n",
    "\n",
    "            # Limpiar texto para quitar links (opcional)\n",
    "            body = re.sub(r'http\\S+', '', body)\n",
    "            title = re.sub(r'http\\S+', '', title)\n",
    "\n",
    "            resultados.append({\n",
    "                \"titulo\": title,\n",
    "                \"cuerpo\": body\n",
    "            })\n",
    "    \n",
    "    return resultados\n",
    "\n",
    "# Ejecutar búsqueda\n",
    "posts = search_crypto_posts(reddit, \"Paraguay\", CRYPTO_KEYWORDS)\n",
    "\n",
    "# Guardar resultados en CSV\n",
    "csv_file = \"data/posts_cripto_paraguay.csv\"\n",
    "with open(csv_file, mode=\"w\", newline=\"\", encoding=\"utf-8\") as file:\n",
    "    writer = csv.DictWriter(file, fieldnames=[\"titulo\", \"cuerpo\"])\n",
    "    writer.writeheader()\n",
    "    for post in posts:\n",
    "        writer.writerow(post)\n",
    "\n",
    "print(f\"Se guardaron {len(posts)} posts en '{csv_file}'\")"
   ]
  },
  {
   "cell_type": "markdown",
   "id": "e61614b9-436a-47bf-97d1-e83e3d1ac320",
   "metadata": {},
   "source": [
    "# Explorar los datos almacenados"
   ]
  },
  {
   "cell_type": "code",
   "execution_count": 14,
   "id": "d9d4aecc-8089-4932-9c70-af8ac08c7d07",
   "metadata": {},
   "outputs": [],
   "source": [
    "df = pd.read_csv(csv_file)"
   ]
  },
  {
   "cell_type": "code",
   "execution_count": 15,
   "id": "864a881a-e231-43b1-bddb-cc61dfaf5a25",
   "metadata": {},
   "outputs": [
    {
     "name": "stdout",
     "output_type": "stream",
     "text": [
      "<class 'pandas.core.frame.DataFrame'>\n",
      "RangeIndex: 175 entries, 0 to 174\n",
      "Data columns (total 2 columns):\n",
      " #   Column  Non-Null Count  Dtype \n",
      "---  ------  --------------  ----- \n",
      " 0   titulo  175 non-null    object\n",
      " 1   cuerpo  175 non-null    object\n",
      "dtypes: object(2)\n",
      "memory usage: 2.9+ KB\n"
     ]
    }
   ],
   "source": [
    "df.info()"
   ]
  },
  {
   "cell_type": "code",
   "execution_count": 16,
   "id": "1d5251e5-a692-45ac-ba4f-3f16b45d9e8b",
   "metadata": {},
   "outputs": [],
   "source": [
    "pd.set_option(\"display.max_colwidth\", None)"
   ]
  },
  {
   "cell_type": "code",
   "execution_count": 17,
   "id": "9d97ae1f-3550-4832-9d7a-f34f9facaf03",
   "metadata": {},
   "outputs": [
    {
     "data": {
      "text/html": [
       "<div>\n",
       "<style scoped>\n",
       "    .dataframe tbody tr th:only-of-type {\n",
       "        vertical-align: middle;\n",
       "    }\n",
       "\n",
       "    .dataframe tbody tr th {\n",
       "        vertical-align: top;\n",
       "    }\n",
       "\n",
       "    .dataframe thead th {\n",
       "        text-align: right;\n",
       "    }\n",
       "</style>\n",
       "<table border=\"1\" class=\"dataframe\">\n",
       "  <thead>\n",
       "    <tr style=\"text-align: right;\">\n",
       "      <th></th>\n",
       "      <th>titulo</th>\n",
       "      <th>cuerpo</th>\n",
       "    </tr>\n",
       "  </thead>\n",
       "  <tbody>\n",
       "    <tr>\n",
       "      <th>0</th>\n",
       "      <td>Trading en Tiktok</td>\n",
       "      <td>Que onda derrepente cada vairo que ofrece su curso, antes co el novio de la onichan nms era pesado pero ahora se reproducieron   Hasta ese man que hacía tiktok de macanadas en el mercado 4 co hace TRADING, después esta ese Aquino que con un cripto cada tanto gua’u efectivizar y para colmo tiene gente boba que comenta toda la hora brooo líder espectacular quiero entrar al curso🙏🙏 tenes que irte de viaje también a dubai vos líder 🙏🙏🙏, se están volviendo peor que los colorados</td>\n",
       "    </tr>\n",
       "    <tr>\n",
       "      <th>1</th>\n",
       "      <td>Percibir salario desde trabajo remoto</td>\n",
       "      <td>Hola, el próximo mes empezaré a trabajar remoto para una multinacional extranjera. Puedo cobrar en USD o en cripto... Ustedes que todo lo saben... ¿Cuál es la mejor opción?\\nSi es en USD, ¿qué bancos recomiendan y por qué?  \\nSi es en cripto, ¿qué billeteras recomiendan y por qué?\\n  ¿Sería buena idea cobrar una parte en USD y el resto en cripto? Compartan su experiencia /tips</td>\n",
       "    </tr>\n",
       "    <tr>\n",
       "      <th>2</th>\n",
       "      <td>Apple gift cards</td>\n",
       "      <td>Tengo 400$ en Apple gift cards y quiero vender. Ya sea transferencia o cripto. \\nVendo 100$ de gift cards por 95$</td>\n",
       "    </tr>\n",
       "    <tr>\n",
       "      <th>3</th>\n",
       "      <td>Recibir pagos del exterior sin tener problemas con Set</td>\n",
       "      <td>Como paraguayo cual es la manera más simple de cobrar por trabajos que sea compatible freelancer y fiverr? Sin tener que hacer jugadas de convertir la plata a cripto, luego a euros y luego a guaraníes?</td>\n",
       "    </tr>\n",
       "    <tr>\n",
       "      <th>4</th>\n",
       "      <td>Tarjetas de credito cobrando en cripto</td>\n",
       "      <td>Alguien sabe si hay alguna forma de que ciertos bancos me habiliten tarjetas de credito si cobro en cripto?  Trabajo para una empresa de afuera y cobro en dolares, para ahorrarme gastos cobro en cripto pero ulltimamente estoy queriendo quitar tarjetas de credito y no se como poder blanquear eso, consejos?</td>\n",
       "    </tr>\n",
       "  </tbody>\n",
       "</table>\n",
       "</div>"
      ],
      "text/plain": [
       "                                                   titulo  \\\n",
       "0                                       Trading en Tiktok   \n",
       "1                   Percibir salario desde trabajo remoto   \n",
       "2                                        Apple gift cards   \n",
       "3  Recibir pagos del exterior sin tener problemas con Set   \n",
       "4                  Tarjetas de credito cobrando en cripto   \n",
       "\n",
       "                                                                                                                                                                                                                                                                                                                                                                                                                                                                                           cuerpo  \n",
       "0  Que onda derrepente cada vairo que ofrece su curso, antes co el novio de la onichan nms era pesado pero ahora se reproducieron   Hasta ese man que hacía tiktok de macanadas en el mercado 4 co hace TRADING, después esta ese Aquino que con un cripto cada tanto gua’u efectivizar y para colmo tiene gente boba que comenta toda la hora brooo líder espectacular quiero entrar al curso🙏🙏 tenes que irte de viaje también a dubai vos líder 🙏🙏🙏, se están volviendo peor que los colorados  \n",
       "1                                                                                                     Hola, el próximo mes empezaré a trabajar remoto para una multinacional extranjera. Puedo cobrar en USD o en cripto... Ustedes que todo lo saben... ¿Cuál es la mejor opción?\\nSi es en USD, ¿qué bancos recomiendan y por qué?  \\nSi es en cripto, ¿qué billeteras recomiendan y por qué?\\n  ¿Sería buena idea cobrar una parte en USD y el resto en cripto? Compartan su experiencia /tips  \n",
       "2                                                                                                                                                                                                                                                                                                                                                                               Tengo 400$ en Apple gift cards y quiero vender. Ya sea transferencia o cripto. \\nVendo 100$ de gift cards por 95$  \n",
       "3                                                                                                                                                                                                                                                                                       Como paraguayo cual es la manera más simple de cobrar por trabajos que sea compatible freelancer y fiverr? Sin tener que hacer jugadas de convertir la plata a cripto, luego a euros y luego a guaraníes?  \n",
       "4                                                                                                                                                                              Alguien sabe si hay alguna forma de que ciertos bancos me habiliten tarjetas de credito si cobro en cripto?  Trabajo para una empresa de afuera y cobro en dolares, para ahorrarme gastos cobro en cripto pero ulltimamente estoy queriendo quitar tarjetas de credito y no se como poder blanquear eso, consejos?  "
      ]
     },
     "execution_count": 17,
     "metadata": {},
     "output_type": "execute_result"
    }
   ],
   "source": [
    "df.head(5)"
   ]
  },
  {
   "cell_type": "markdown",
   "id": "196628a4-73b4-4c96-8176-444addc81f03",
   "metadata": {},
   "source": [
    "# Criterios de etiqueta de datos [POSITIVO | NEGATIVO | NEUTRAL]"
   ]
  },
  {
   "cell_type": "code",
   "execution_count": 18,
   "id": "05628aca-a7ea-4bfa-8b00-9501f7155543",
   "metadata": {},
   "outputs": [
    {
     "data": {
      "text/html": [
       "<div>\n",
       "<style scoped>\n",
       "    .dataframe tbody tr th:only-of-type {\n",
       "        vertical-align: middle;\n",
       "    }\n",
       "\n",
       "    .dataframe tbody tr th {\n",
       "        vertical-align: top;\n",
       "    }\n",
       "\n",
       "    .dataframe thead th {\n",
       "        text-align: right;\n",
       "    }\n",
       "</style>\n",
       "<table border=\"1\" class=\"dataframe\">\n",
       "  <thead>\n",
       "    <tr style=\"text-align: right;\">\n",
       "      <th></th>\n",
       "      <th>Etiqueta</th>\n",
       "      <th>Significado</th>\n",
       "      <th>Indicadores clave</th>\n",
       "    </tr>\n",
       "  </thead>\n",
       "  <tbody>\n",
       "    <tr>\n",
       "      <th>0</th>\n",
       "      <td>Positivo</td>\n",
       "      <td>Muestra entusiasmo, interés o experiencias positivas sobre cripto</td>\n",
       "      <td>Palabras como 'bueno, rentable, útil, líder, espectacular'</td>\n",
       "    </tr>\n",
       "    <tr>\n",
       "      <th>1</th>\n",
       "      <td>Negativo</td>\n",
       "      <td>Muestra frustración, desconfianza, crítica o experiencias negativas</td>\n",
       "      <td>Palabras como 'estafado, complicado, ilegal, peor, problema'</td>\n",
       "    </tr>\n",
       "    <tr>\n",
       "      <th>2</th>\n",
       "      <td>Neutral</td>\n",
       "      <td>No expresa emoción clara; es solo una consulta, hecho o mención superficial</td>\n",
       "      <td>Preguntas abiertas, comparaciones, sin juicio emocional claro</td>\n",
       "    </tr>\n",
       "    <tr>\n",
       "      <th>3</th>\n",
       "      <td>No relevante</td>\n",
       "      <td>Habla de otro tema y menciona cripto tangencialmente o no es una opinión</td>\n",
       "      <td>Solo incluye cripto como medio de pago, títulos sin contexto</td>\n",
       "    </tr>\n",
       "  </tbody>\n",
       "</table>\n",
       "</div>"
      ],
      "text/plain": [
       "       Etiqueta  \\\n",
       "0      Positivo   \n",
       "1      Negativo   \n",
       "2       Neutral   \n",
       "3  No relevante   \n",
       "\n",
       "                                                                   Significado  \\\n",
       "0            Muestra entusiasmo, interés o experiencias positivas sobre cripto   \n",
       "1          Muestra frustración, desconfianza, crítica o experiencias negativas   \n",
       "2  No expresa emoción clara; es solo una consulta, hecho o mención superficial   \n",
       "3     Habla de otro tema y menciona cripto tangencialmente o no es una opinión   \n",
       "\n",
       "                                               Indicadores clave  \n",
       "0     Palabras como 'bueno, rentable, útil, líder, espectacular'  \n",
       "1   Palabras como 'estafado, complicado, ilegal, peor, problema'  \n",
       "2  Preguntas abiertas, comparaciones, sin juicio emocional claro  \n",
       "3   Solo incluye cripto como medio de pago, títulos sin contexto  "
      ]
     },
     "execution_count": 18,
     "metadata": {},
     "output_type": "execute_result"
    }
   ],
   "source": [
    "criterios = {\n",
    "    \"Etiqueta\": [\"Positivo\", \"Negativo\", \"Neutral\", \"No relevante\"],\n",
    "    \"Significado\": [\n",
    "        \"Muestra entusiasmo, interés o experiencias positivas sobre cripto\",\n",
    "        \"Muestra frustración, desconfianza, crítica o experiencias negativas\",\n",
    "        \"No expresa emoción clara; es solo una consulta, hecho o mención superficial\",\n",
    "        \"Habla de otro tema y menciona cripto tangencialmente o no es una opinión\"\n",
    "    ],\n",
    "    \"Indicadores clave\": [\n",
    "        \"Palabras como 'bueno, rentable, útil, líder, espectacular'\",\n",
    "        \"Palabras como 'estafado, complicado, ilegal, peor, problema'\",\n",
    "        \"Preguntas abiertas, comparaciones, sin juicio emocional claro\",\n",
    "        \"Solo incluye cripto como medio de pago, títulos sin contexto\"\n",
    "    ]\n",
    "}\n",
    "\n",
    "df_criterios = pd.DataFrame(criterios)\n",
    "df_criterios"
   ]
  },
  {
   "cell_type": "markdown",
   "id": "365ac16d-8822-4e40-bdf6-5c7ee2fe676f",
   "metadata": {},
   "source": [
    "<hr/>"
   ]
  },
  {
   "cell_type": "code",
   "execution_count": 21,
   "id": "aa6352d0-a58d-4648-96f4-f97ae6c4483d",
   "metadata": {},
   "outputs": [],
   "source": [
    "csv_file = \"data/muestra_posts_cripto_paraguay_etiquetado.csv\""
   ]
  },
  {
   "cell_type": "code",
   "execution_count": 22,
   "id": "07977f54-0bef-41f9-a334-af7b098e7ece",
   "metadata": {},
   "outputs": [
    {
     "ename": "UnicodeDecodeError",
     "evalue": "'utf-8' codec can't decode byte 0xa1 in position 195: invalid start byte",
     "output_type": "error",
     "traceback": [
      "\u001b[31m---------------------------------------------------------------------------\u001b[39m",
      "\u001b[31mUnicodeDecodeError\u001b[39m                        Traceback (most recent call last)",
      "\u001b[36mCell\u001b[39m\u001b[36m \u001b[39m\u001b[32mIn[22]\u001b[39m\u001b[32m, line 1\u001b[39m\n\u001b[32m----> \u001b[39m\u001b[32m1\u001b[39m df_posts = \u001b[43mpd\u001b[49m\u001b[43m.\u001b[49m\u001b[43mread_csv\u001b[49m\u001b[43m(\u001b[49m\u001b[43mcsv_file\u001b[49m\u001b[43m)\u001b[49m\n",
      "\u001b[36mFile \u001b[39m\u001b[32m/usr/local/lib/python3.13/site-packages/pandas/io/parsers/readers.py:1026\u001b[39m, in \u001b[36mread_csv\u001b[39m\u001b[34m(filepath_or_buffer, sep, delimiter, header, names, index_col, usecols, dtype, engine, converters, true_values, false_values, skipinitialspace, skiprows, skipfooter, nrows, na_values, keep_default_na, na_filter, verbose, skip_blank_lines, parse_dates, infer_datetime_format, keep_date_col, date_parser, date_format, dayfirst, cache_dates, iterator, chunksize, compression, thousands, decimal, lineterminator, quotechar, quoting, doublequote, escapechar, comment, encoding, encoding_errors, dialect, on_bad_lines, delim_whitespace, low_memory, memory_map, float_precision, storage_options, dtype_backend)\u001b[39m\n\u001b[32m   1013\u001b[39m kwds_defaults = _refine_defaults_read(\n\u001b[32m   1014\u001b[39m     dialect,\n\u001b[32m   1015\u001b[39m     delimiter,\n\u001b[32m   (...)\u001b[39m\u001b[32m   1022\u001b[39m     dtype_backend=dtype_backend,\n\u001b[32m   1023\u001b[39m )\n\u001b[32m   1024\u001b[39m kwds.update(kwds_defaults)\n\u001b[32m-> \u001b[39m\u001b[32m1026\u001b[39m \u001b[38;5;28;01mreturn\u001b[39;00m \u001b[43m_read\u001b[49m\u001b[43m(\u001b[49m\u001b[43mfilepath_or_buffer\u001b[49m\u001b[43m,\u001b[49m\u001b[43m \u001b[49m\u001b[43mkwds\u001b[49m\u001b[43m)\u001b[49m\n",
      "\u001b[36mFile \u001b[39m\u001b[32m/usr/local/lib/python3.13/site-packages/pandas/io/parsers/readers.py:620\u001b[39m, in \u001b[36m_read\u001b[39m\u001b[34m(filepath_or_buffer, kwds)\u001b[39m\n\u001b[32m    617\u001b[39m _validate_names(kwds.get(\u001b[33m\"\u001b[39m\u001b[33mnames\u001b[39m\u001b[33m\"\u001b[39m, \u001b[38;5;28;01mNone\u001b[39;00m))\n\u001b[32m    619\u001b[39m \u001b[38;5;66;03m# Create the parser.\u001b[39;00m\n\u001b[32m--> \u001b[39m\u001b[32m620\u001b[39m parser = \u001b[43mTextFileReader\u001b[49m\u001b[43m(\u001b[49m\u001b[43mfilepath_or_buffer\u001b[49m\u001b[43m,\u001b[49m\u001b[43m \u001b[49m\u001b[43m*\u001b[49m\u001b[43m*\u001b[49m\u001b[43mkwds\u001b[49m\u001b[43m)\u001b[49m\n\u001b[32m    622\u001b[39m \u001b[38;5;28;01mif\u001b[39;00m chunksize \u001b[38;5;129;01mor\u001b[39;00m iterator:\n\u001b[32m    623\u001b[39m     \u001b[38;5;28;01mreturn\u001b[39;00m parser\n",
      "\u001b[36mFile \u001b[39m\u001b[32m/usr/local/lib/python3.13/site-packages/pandas/io/parsers/readers.py:1620\u001b[39m, in \u001b[36mTextFileReader.__init__\u001b[39m\u001b[34m(self, f, engine, **kwds)\u001b[39m\n\u001b[32m   1617\u001b[39m     \u001b[38;5;28mself\u001b[39m.options[\u001b[33m\"\u001b[39m\u001b[33mhas_index_names\u001b[39m\u001b[33m\"\u001b[39m] = kwds[\u001b[33m\"\u001b[39m\u001b[33mhas_index_names\u001b[39m\u001b[33m\"\u001b[39m]\n\u001b[32m   1619\u001b[39m \u001b[38;5;28mself\u001b[39m.handles: IOHandles | \u001b[38;5;28;01mNone\u001b[39;00m = \u001b[38;5;28;01mNone\u001b[39;00m\n\u001b[32m-> \u001b[39m\u001b[32m1620\u001b[39m \u001b[38;5;28mself\u001b[39m._engine = \u001b[38;5;28;43mself\u001b[39;49m\u001b[43m.\u001b[49m\u001b[43m_make_engine\u001b[49m\u001b[43m(\u001b[49m\u001b[43mf\u001b[49m\u001b[43m,\u001b[49m\u001b[43m \u001b[49m\u001b[38;5;28;43mself\u001b[39;49m\u001b[43m.\u001b[49m\u001b[43mengine\u001b[49m\u001b[43m)\u001b[49m\n",
      "\u001b[36mFile \u001b[39m\u001b[32m/usr/local/lib/python3.13/site-packages/pandas/io/parsers/readers.py:1898\u001b[39m, in \u001b[36mTextFileReader._make_engine\u001b[39m\u001b[34m(self, f, engine)\u001b[39m\n\u001b[32m   1895\u001b[39m     \u001b[38;5;28;01mraise\u001b[39;00m \u001b[38;5;167;01mValueError\u001b[39;00m(msg)\n\u001b[32m   1897\u001b[39m \u001b[38;5;28;01mtry\u001b[39;00m:\n\u001b[32m-> \u001b[39m\u001b[32m1898\u001b[39m     \u001b[38;5;28;01mreturn\u001b[39;00m \u001b[43mmapping\u001b[49m\u001b[43m[\u001b[49m\u001b[43mengine\u001b[49m\u001b[43m]\u001b[49m\u001b[43m(\u001b[49m\u001b[43mf\u001b[49m\u001b[43m,\u001b[49m\u001b[43m \u001b[49m\u001b[43m*\u001b[49m\u001b[43m*\u001b[49m\u001b[38;5;28;43mself\u001b[39;49m\u001b[43m.\u001b[49m\u001b[43moptions\u001b[49m\u001b[43m)\u001b[49m\n\u001b[32m   1899\u001b[39m \u001b[38;5;28;01mexcept\u001b[39;00m \u001b[38;5;167;01mException\u001b[39;00m:\n\u001b[32m   1900\u001b[39m     \u001b[38;5;28;01mif\u001b[39;00m \u001b[38;5;28mself\u001b[39m.handles \u001b[38;5;129;01mis\u001b[39;00m \u001b[38;5;129;01mnot\u001b[39;00m \u001b[38;5;28;01mNone\u001b[39;00m:\n",
      "\u001b[36mFile \u001b[39m\u001b[32m/usr/local/lib/python3.13/site-packages/pandas/io/parsers/c_parser_wrapper.py:93\u001b[39m, in \u001b[36mCParserWrapper.__init__\u001b[39m\u001b[34m(self, src, **kwds)\u001b[39m\n\u001b[32m     90\u001b[39m \u001b[38;5;28;01mif\u001b[39;00m kwds[\u001b[33m\"\u001b[39m\u001b[33mdtype_backend\u001b[39m\u001b[33m\"\u001b[39m] == \u001b[33m\"\u001b[39m\u001b[33mpyarrow\u001b[39m\u001b[33m\"\u001b[39m:\n\u001b[32m     91\u001b[39m     \u001b[38;5;66;03m# Fail here loudly instead of in cython after reading\u001b[39;00m\n\u001b[32m     92\u001b[39m     import_optional_dependency(\u001b[33m\"\u001b[39m\u001b[33mpyarrow\u001b[39m\u001b[33m\"\u001b[39m)\n\u001b[32m---> \u001b[39m\u001b[32m93\u001b[39m \u001b[38;5;28mself\u001b[39m._reader = \u001b[43mparsers\u001b[49m\u001b[43m.\u001b[49m\u001b[43mTextReader\u001b[49m\u001b[43m(\u001b[49m\u001b[43msrc\u001b[49m\u001b[43m,\u001b[49m\u001b[43m \u001b[49m\u001b[43m*\u001b[49m\u001b[43m*\u001b[49m\u001b[43mkwds\u001b[49m\u001b[43m)\u001b[49m\n\u001b[32m     95\u001b[39m \u001b[38;5;28mself\u001b[39m.unnamed_cols = \u001b[38;5;28mself\u001b[39m._reader.unnamed_cols\n\u001b[32m     97\u001b[39m \u001b[38;5;66;03m# error: Cannot determine type of 'names'\u001b[39;00m\n",
      "\u001b[36mFile \u001b[39m\u001b[32mparsers.pyx:574\u001b[39m, in \u001b[36mpandas._libs.parsers.TextReader.__cinit__\u001b[39m\u001b[34m()\u001b[39m\n",
      "\u001b[36mFile \u001b[39m\u001b[32mparsers.pyx:663\u001b[39m, in \u001b[36mpandas._libs.parsers.TextReader._get_header\u001b[39m\u001b[34m()\u001b[39m\n",
      "\u001b[36mFile \u001b[39m\u001b[32mparsers.pyx:874\u001b[39m, in \u001b[36mpandas._libs.parsers.TextReader._tokenize_rows\u001b[39m\u001b[34m()\u001b[39m\n",
      "\u001b[36mFile \u001b[39m\u001b[32mparsers.pyx:891\u001b[39m, in \u001b[36mpandas._libs.parsers.TextReader._check_tokenize_status\u001b[39m\u001b[34m()\u001b[39m\n",
      "\u001b[36mFile \u001b[39m\u001b[32mparsers.pyx:2053\u001b[39m, in \u001b[36mpandas._libs.parsers.raise_parser_error\u001b[39m\u001b[34m()\u001b[39m\n",
      "\u001b[36mFile \u001b[39m\u001b[32m<frozen codecs>:325\u001b[39m, in \u001b[36mdecode\u001b[39m\u001b[34m(self, input, final)\u001b[39m\n",
      "\u001b[31mUnicodeDecodeError\u001b[39m: 'utf-8' codec can't decode byte 0xa1 in position 195: invalid start byte"
     ]
    }
   ],
   "source": [
    "df_posts = pd.read_csv(csv_file)"
   ]
  }
 ],
 "metadata": {
  "kernelspec": {
   "display_name": "Python 3 (ipykernel)",
   "language": "python",
   "name": "python3"
  },
  "language_info": {
   "codemirror_mode": {
    "name": "ipython",
    "version": 3
   },
   "file_extension": ".py",
   "mimetype": "text/x-python",
   "name": "python",
   "nbconvert_exporter": "python",
   "pygments_lexer": "ipython3",
   "version": "3.13.3"
  }
 },
 "nbformat": 4,
 "nbformat_minor": 5
}
