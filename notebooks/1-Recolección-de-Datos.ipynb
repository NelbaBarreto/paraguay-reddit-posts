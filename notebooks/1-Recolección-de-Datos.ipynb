{
 "cells": [
  {
   "cell_type": "code",
   "execution_count": 1,
   "id": "cd2212c1-3bb5-4c4d-ac32-5abd433be592",
   "metadata": {},
   "outputs": [],
   "source": [
    "# Importar librerías necesarias\n",
    "import os\n",
    "import praw\n",
    "import pandas as pd\n",
    "import re\n",
    "import csv"
   ]
  },
  {
   "cell_type": "code",
   "execution_count": 2,
   "id": "79a4e1f4-a881-48ec-8ca9-87bd13f428e4",
   "metadata": {},
   "outputs": [],
   "source": [
    "# Cargar credenciales\n",
    "CLIENT_ID = os.getenv(\"CLIENT_ID\")\n",
    "CLIENT_SECRET = os.getenv(\"CLIENT_SECRET\")\n",
    "REDDIT_USERNAME = os.getenv(\"REDDIT_USERNAME\")\n",
    "REDDIT_PASSWORD = os.getenv(\"REDDIT_PASSWORD\")\n",
    "\n",
    "SUBREDDITS = [\"Paraguay\"]\n",
    "USER_AGENT = \"Reddit Paraguay\""
   ]
  },
  {
   "cell_type": "code",
   "execution_count": 3,
   "id": "4be3f0bb-319c-42d5-920f-9cfa0cb701ac",
   "metadata": {},
   "outputs": [],
   "source": [
    "# Crear una instancia autenticada del cliente de Reddit\n",
    "reddit = praw.Reddit(\n",
    "    client_id=CLIENT_ID,\n",
    "    client_secret=CLIENT_SECRET,\n",
    "    user_agent=USER_AGENT,\n",
    "    username=REDDIT_USERNAME,\n",
    "    password=REDDIT_PASSWORD,\n",
    "    check_for_async=False\n",
    ")"
   ]
  },
  {
   "cell_type": "code",
   "execution_count": 4,
   "id": "c9daef6b-d3cb-4ee7-9210-1579f5f5c033",
   "metadata": {},
   "outputs": [],
   "source": [
    "# Definir palabras clave relacionadas a criptomonedas\n",
    "CRYPTO_KEYWORDS = [\n",
    "    \"cripto\", \"criptomonedas\", \"bitcoin\", \"ethereum\", \"eth\",\n",
    "    \"btc\", \"blockchain\", \"web3\", \"nft\", \"defi\", \"crypto\", \"minería\", \"minar\",\n",
    "    \"p2p\"\n",
    "]"
   ]
  },
  {
   "cell_type": "markdown",
   "id": "568afd41-e9c7-4ec2-b074-3f023312f0eb",
   "metadata": {},
   "source": [
    "# Guardar posts de r/Paraguay relacionados a criptomonedas"
   ]
  },
  {
   "cell_type": "code",
   "execution_count": 5,
   "id": "535405c6-e0b9-4646-8e35-35330f9c7bd3",
   "metadata": {},
   "outputs": [
    {
     "name": "stdout",
     "output_type": "stream",
     "text": [
      "Se guardaron 189 posts en 'data/posts/original.csv'\n"
     ]
    }
   ],
   "source": [
    "def search_crypto_posts(reddit, subreddit_name, keywords):\n",
    "    resultados = []\n",
    "    subreddit = reddit.subreddit(subreddit_name)\n",
    "\n",
    "    for keyword in keywords:\n",
    "        query = f'title:{keyword} OR selftext:{keyword}'\n",
    "        for post in subreddit.search(query, sort=\"new\", time_filter=\"all\", limit=None):\n",
    "            title = post.title.strip()\n",
    "            body = post.selftext.strip() if post.selftext else \"(sin texto)\"\n",
    "\n",
    "            # Limpiar texto para quitar links\n",
    "            body = re.sub(r'http\\S+', '', body)\n",
    "            title = re.sub(r'http\\S+', '', title)\n",
    "\n",
    "            resultados.append({\n",
    "                \"titulo\": title,\n",
    "                \"cuerpo\": body\n",
    "            })\n",
    "    \n",
    "    return resultados\n",
    "\n",
    "# Ejecutar búsqueda\n",
    "posts = search_crypto_posts(reddit, \"Paraguay\", CRYPTO_KEYWORDS)\n",
    "\n",
    "# Guardar resultados en CSV\n",
    "csv_file = \"data/posts/original.csv\"\n",
    "with open(csv_file, mode=\"w\", newline=\"\", encoding=\"utf-8\") as file:\n",
    "    writer = csv.DictWriter(file, fieldnames=[\"titulo\", \"cuerpo\"])\n",
    "    writer.writeheader()\n",
    "    for post in posts:\n",
    "        writer.writerow(post)\n",
    "\n",
    "print(f\"Se guardaron {len(posts)} posts en '{csv_file}'\")"
   ]
  },
  {
   "cell_type": "markdown",
   "id": "e61614b9-436a-47bf-97d1-e83e3d1ac320",
   "metadata": {},
   "source": [
    "# Explorar los datos almacenados"
   ]
  },
  {
   "cell_type": "code",
   "execution_count": 6,
   "id": "d9d4aecc-8089-4932-9c70-af8ac08c7d07",
   "metadata": {},
   "outputs": [
    {
     "name": "stdout",
     "output_type": "stream",
     "text": [
      "<class 'pandas.core.frame.DataFrame'>\n",
      "Index: 142 entries, 0 to 188\n",
      "Data columns (total 2 columns):\n",
      " #   Column  Non-Null Count  Dtype \n",
      "---  ------  --------------  ----- \n",
      " 0   titulo  142 non-null    object\n",
      " 1   cuerpo  142 non-null    object\n",
      "dtypes: object(2)\n",
      "memory usage: 3.3+ KB\n"
     ]
    }
   ],
   "source": [
    "df = pd.read_csv(csv_file)\n",
    "df = df.drop_duplicates()\n",
    "df.info()"
   ]
  },
  {
   "cell_type": "code",
   "execution_count": 7,
   "id": "864a881a-e231-43b1-bddb-cc61dfaf5a25",
   "metadata": {},
   "outputs": [],
   "source": [
    "# Guardar el archivo sin duplicados\n",
    "csv_file = \"data/posts/original.csv\"\n",
    "df.to_csv(csv_file)"
   ]
  },
  {
   "cell_type": "code",
   "execution_count": 8,
   "id": "1d5251e5-a692-45ac-ba4f-3f16b45d9e8b",
   "metadata": {},
   "outputs": [],
   "source": [
    "pd.set_option(\"display.max_colwidth\", None)"
   ]
  },
  {
   "cell_type": "code",
   "execution_count": 9,
   "id": "9d97ae1f-3550-4832-9d7a-f34f9facaf03",
   "metadata": {},
   "outputs": [
    {
     "data": {
      "text/html": [
       "<div>\n",
       "<style scoped>\n",
       "    .dataframe tbody tr th:only-of-type {\n",
       "        vertical-align: middle;\n",
       "    }\n",
       "\n",
       "    .dataframe tbody tr th {\n",
       "        vertical-align: top;\n",
       "    }\n",
       "\n",
       "    .dataframe thead th {\n",
       "        text-align: right;\n",
       "    }\n",
       "</style>\n",
       "<table border=\"1\" class=\"dataframe\">\n",
       "  <thead>\n",
       "    <tr style=\"text-align: right;\">\n",
       "      <th></th>\n",
       "      <th>titulo</th>\n",
       "      <th>cuerpo</th>\n",
       "    </tr>\n",
       "  </thead>\n",
       "  <tbody>\n",
       "    <tr>\n",
       "      <th>0</th>\n",
       "      <td>Trading en Tiktok</td>\n",
       "      <td>Que onda derrepente cada vairo que ofrece su curso, antes co el novio de la onichan nms era pesado pero ahora se reproducieron   Hasta ese man que hacía tiktok de macanadas en el mercado 4 co hace TRADING, después esta ese Aquino que con un cripto cada tanto gua’u efectivizar y para colmo tiene gente boba que comenta toda la hora brooo líder espectacular quiero entrar al curso🙏🙏 tenes que irte de viaje también a dubai vos líder 🙏🙏🙏, se están volviendo peor que los colorados</td>\n",
       "    </tr>\n",
       "    <tr>\n",
       "      <th>1</th>\n",
       "      <td>Percibir salario desde trabajo remoto</td>\n",
       "      <td>Hola, el próximo mes empezaré a trabajar remoto para una multinacional extranjera. Puedo cobrar en USD o en cripto... Ustedes que todo lo saben... ¿Cuál es la mejor opción?\\nSi es en USD, ¿qué bancos recomiendan y por qué?  \\nSi es en cripto, ¿qué billeteras recomiendan y por qué?\\n  ¿Sería buena idea cobrar una parte en USD y el resto en cripto? Compartan su experiencia /tips</td>\n",
       "    </tr>\n",
       "    <tr>\n",
       "      <th>2</th>\n",
       "      <td>Apple gift cards</td>\n",
       "      <td>Tengo 400$ en Apple gift cards y quiero vender. Ya sea transferencia o cripto. \\nVendo 100$ de gift cards por 95$</td>\n",
       "    </tr>\n",
       "    <tr>\n",
       "      <th>3</th>\n",
       "      <td>Recibir pagos del exterior sin tener problemas con Set</td>\n",
       "      <td>Como paraguayo cual es la manera más simple de cobrar por trabajos que sea compatible freelancer y fiverr? Sin tener que hacer jugadas de convertir la plata a cripto, luego a euros y luego a guaraníes?</td>\n",
       "    </tr>\n",
       "    <tr>\n",
       "      <th>4</th>\n",
       "      <td>Tarjetas de credito cobrando en cripto</td>\n",
       "      <td>Alguien sabe si hay alguna forma de que ciertos bancos me habiliten tarjetas de credito si cobro en cripto?  Trabajo para una empresa de afuera y cobro en dolares, para ahorrarme gastos cobro en cripto pero ulltimamente estoy queriendo quitar tarjetas de credito y no se como poder blanquear eso, consejos?</td>\n",
       "    </tr>\n",
       "    <tr>\n",
       "      <th>5</th>\n",
       "      <td>Estaría interesante conocer personas que esten metidas en el mundo cripto y el trading para intercambiar palabras, escriban!!</td>\n",
       "      <td>(sin texto)</td>\n",
       "    </tr>\n",
       "    <tr>\n",
       "      <th>6</th>\n",
       "      <td>Hay alguna forma práctica de cambiar cripto a Gs. para no residentes?</td>\n",
       "      <td>O sea, para alguien que no tenga cuenta bancaria allá. \\n\\nHay algún método confiable y que no te maten con la comisión?</td>\n",
       "    </tr>\n",
       "    <tr>\n",
       "      <th>7</th>\n",
       "      <td>Ganar plata en Paraguay siendo joven y con poco capital</td>\n",
       "      <td>Buenas, tengo 20 años y soy de Asuncion, estoy actualmente estudiando ing. informatica y estoy queriendo invertir en algo que no requiera mucha inversion, algun emprendimiento, actualmente tengo un trabajo pero pagan menos que el minimo y me cansa y deseo tener una forma mejor, mas flexible y que pueda hacerme me plata y estoy viendo opciones.\\n\\nEntre las cosas que ya probe esta el trading y lo relacionado a cripto, es rentable pero no tanto, y muy facil de perder lo que ganaste si haces algo mal, lo que si estuve pensando en algun tipo negocio de aplicacion de herramientas(o creacion de estas) de IA a negocios, enfocandose en pequeñas y medianas empresas, o tambien alguna tienda online para venta de productos al por mayor(mas para que empresarios compren sus productos de ahi, una especie de alibaba), o algo de servicios de marketing pero no se la demanda que estas pueden tener y no quiero inevrtir mucho tiempo en algo que no me vaya a servir en nada luego, que recomiendan o que ideas dicen pueda probar? tambien estaria bueno si dicen alguna app que les gustaria tener en su tel o un servicio que no haya o haya poco en el pais.</td>\n",
       "    </tr>\n",
       "    <tr>\n",
       "      <th>8</th>\n",
       "      <td>Paraguay y criptomonedas</td>\n",
       "      <td>Me gustaría hablar sobre un tema un poco delicado: Cripto en Paraguay.\\n\\nÚltimamente, está teniendo un boom en Paraguay, con varias noticias sobre proyectos de ley y con varios exchanges locales. Lo que sí, quise probar y me fui a los tres más \"grandes\" o más renombrados: Cripex, Bitbase y X4T, además del P2P.\\n\\n\\nCripex parece que ya ni existe, su sitio web no funciona y no se puede contactar a nadie.\\n\\nEn Bitbase quise comprar Bitcoin por 200.000Gs. Primero, me dijeron que necesitaba una wallet propia, cosa que no tenía. En la tienda venden algunas, pero cuestan más de 100$ y son mucho más caras que en Amazon y otros lugares. Un amigo mío tiene una wallet para recibir Bitcoin, así que lo hicimos con su wallet. Y ahí vino la gran sorpresa:  \\nen una compra de 200.000Gs hubo una comisión de 36.373Gs, ~18,37%. Además, nos dieron un tipo de cambio falso. El tipo de cambio oficial era 1BTC=213.251.786 en julio del año pasado cuando compré. El tipo de cambio de Bitbase era 1BTC=274.857.417. Eso es una diferencia de casi el 28,89%. Si sumamos ambas \"comisiones\", Bitbase cobró una comisión de 47,26% sobre una compra de 200.000Gs, unos 94.520Gs. No me avisaron de estas comisiones antes y me siento estafado.\\n\\nDespués escuché sobre X4T, una exchange nueva acá en Paraguay. El registro fue rápido y también te dan una wallet gratuita para recibir, enviar y comprar Cripto. Ahí también podes comprar Cripto por efectivo o vender. Además, ofrecen transferencias bancarias y ahora una tarjeta de débito, que para mí en lo personal es cara, pero para los que están bien metidos en el mundo Cripto y valoran la anonimidad, les puede interesar. No hubo comisiones para el depósito, solo cobran 2%-3% para retirar. El soporte es súper útil y me explicaron todo lo importante como novato, además pude contactar al soporte vía WhatsApp para cualquier otra duda.\\n\\nMi amigo mencionó que siempre hace P2P. En este caso, te encuentras con un comprador/vendedor, según lo que necesites, y podes cambiar cripto por efectivo. Se encuentran en la casa de alguien o en otro lugar y ahí hacen la transacción. A él le funciona bien, pero es un proceso increíblemente complicado para principiantes y además mucho mas caro. Los vendedores cobran entre 6%-15%, lo hacen de manera ilegal y todo el negocio se basa en \"confianza\".\\n\\nTengo curiosidad de ver hacia dónde va todo esto del Cripto y qué dice nuestro gobierno. Personalmente, me gustaría que los bancos pierdan su monopolio y que Bancard no controle todas las finanzas del país.</td>\n",
       "    </tr>\n",
       "    <tr>\n",
       "      <th>9</th>\n",
       "      <td>Paraguay prohíbe cripto. Debo vender mi Bitcoin antes de la nuevo ley o que? No quiero estar criminal. No soy minador, solo tengo un poco Bitcoin como inversion.</td>\n",
       "      <td>(sin texto)</td>\n",
       "    </tr>\n",
       "  </tbody>\n",
       "</table>\n",
       "</div>"
      ],
      "text/plain": [
       "                                                                                                                                                              titulo  \\\n",
       "0                                                                                                                                                  Trading en Tiktok   \n",
       "1                                                                                                                              Percibir salario desde trabajo remoto   \n",
       "2                                                                                                                                                   Apple gift cards   \n",
       "3                                                                                                             Recibir pagos del exterior sin tener problemas con Set   \n",
       "4                                                                                                                             Tarjetas de credito cobrando en cripto   \n",
       "5                                      Estaría interesante conocer personas que esten metidas en el mundo cripto y el trading para intercambiar palabras, escriban!!   \n",
       "6                                                                                              Hay alguna forma práctica de cambiar cripto a Gs. para no residentes?   \n",
       "7                                                                                                            Ganar plata en Paraguay siendo joven y con poco capital   \n",
       "8                                                                                                                                           Paraguay y criptomonedas   \n",
       "9  Paraguay prohíbe cripto. Debo vender mi Bitcoin antes de la nuevo ley o que? No quiero estar criminal. No soy minador, solo tengo un poco Bitcoin como inversion.   \n",
       "\n",
       "                                                                                                                                                                                                                                                                                                                                                                                                                                                                                                                                                                                                                                                                                                                                                                                                                                                                                                                                                                                                                                                                                                                                                                                                                                                                                                                                                                                                                                                                                                                                                                                                                                                                                                                                                                                                                                                                                                                                                                                                                                                                                                                                                                                                                                                                                                                                                                                                                                                                                                                                                                                                                                 cuerpo  \n",
       "0                                                                                                                                                                                                                                                                                                                                                                                                                                                                                                                                                                                                                                                                                                                                                                                                                                                                                                                                                                                                                                                                                                                                                                                                                                                                                                                                                                                                                                                                                                                                                                                                                                                                                                                                                                                                                                                                                                                                                                                                                                                                                                                                        Que onda derrepente cada vairo que ofrece su curso, antes co el novio de la onichan nms era pesado pero ahora se reproducieron   Hasta ese man que hacía tiktok de macanadas en el mercado 4 co hace TRADING, después esta ese Aquino que con un cripto cada tanto gua’u efectivizar y para colmo tiene gente boba que comenta toda la hora brooo líder espectacular quiero entrar al curso🙏🙏 tenes que irte de viaje también a dubai vos líder 🙏🙏🙏, se están volviendo peor que los colorados  \n",
       "1                                                                                                                                                                                                                                                                                                                                                                                                                                                                                                                                                                                                                                                                                                                                                                                                                                                                                                                                                                                                                                                                                                                                                                                                                                                                                                                                                                                                                                                                                                                                                                                                                                                                                                                                                                                                                                                                                                                                                                                                                                                                                                                                                                                                                                           Hola, el próximo mes empezaré a trabajar remoto para una multinacional extranjera. Puedo cobrar en USD o en cripto... Ustedes que todo lo saben... ¿Cuál es la mejor opción?\\nSi es en USD, ¿qué bancos recomiendan y por qué?  \\nSi es en cripto, ¿qué billeteras recomiendan y por qué?\\n  ¿Sería buena idea cobrar una parte en USD y el resto en cripto? Compartan su experiencia /tips  \n",
       "2                                                                                                                                                                                                                                                                                                                                                                                                                                                                                                                                                                                                                                                                                                                                                                                                                                                                                                                                                                                                                                                                                                                                                                                                                                                                                                                                                                                                                                                                                                                                                                                                                                                                                                                                                                                                                                                                                                                                                                                                                                                                                                                                                                                                                                                                                                                                                                                                                                                                                                                     Tengo 400$ en Apple gift cards y quiero vender. Ya sea transferencia o cripto. \\nVendo 100$ de gift cards por 95$  \n",
       "3                                                                                                                                                                                                                                                                                                                                                                                                                                                                                                                                                                                                                                                                                                                                                                                                                                                                                                                                                                                                                                                                                                                                                                                                                                                                                                                                                                                                                                                                                                                                                                                                                                                                                                                                                                                                                                                                                                                                                                                                                                                                                                                                                                                                                                                                                                                                                                                                                             Como paraguayo cual es la manera más simple de cobrar por trabajos que sea compatible freelancer y fiverr? Sin tener que hacer jugadas de convertir la plata a cripto, luego a euros y luego a guaraníes?  \n",
       "4                                                                                                                                                                                                                                                                                                                                                                                                                                                                                                                                                                                                                                                                                                                                                                                                                                                                                                                                                                                                                                                                                                                                                                                                                                                                                                                                                                                                                                                                                                                                                                                                                                                                                                                                                                                                                                                                                                                                                                                                                                                                                                                                                                                                                                                                                                                    Alguien sabe si hay alguna forma de que ciertos bancos me habiliten tarjetas de credito si cobro en cripto?  Trabajo para una empresa de afuera y cobro en dolares, para ahorrarme gastos cobro en cripto pero ulltimamente estoy queriendo quitar tarjetas de credito y no se como poder blanquear eso, consejos?  \n",
       "5                                                                                                                                                                                                                                                                                                                                                                                                                                                                                                                                                                                                                                                                                                                                                                                                                                                                                                                                                                                                                                                                                                                                                                                                                                                                                                                                                                                                                                                                                                                                                                                                                                                                                                                                                                                                                                                                                                                                                                                                                                                                                                                                                                                                                                                                                                                                                                                                                                                                                                                                                                                                                           (sin texto)  \n",
       "6                                                                                                                                                                                                                                                                                                                                                                                                                                                                                                                                                                                                                                                                                                                                                                                                                                                                                                                                                                                                                                                                                                                                                                                                                                                                                                                                                                                                                                                                                                                                                                                                                                                                                                                                                                                                                                                                                                                                                                                                                                                                                                                                                                                                                                                                                                                                                                                                                                                                                                              O sea, para alguien que no tenga cuenta bancaria allá. \\n\\nHay algún método confiable y que no te maten con la comisión?  \n",
       "7                                                                                                                                                                                                                                                                                                                                                                                                                                                                                                                                                                                                                                                                                                                                                                                                                                                                                                                                                                                                                                                                                                                                                                                                                                                                                                                                                                                                                                             Buenas, tengo 20 años y soy de Asuncion, estoy actualmente estudiando ing. informatica y estoy queriendo invertir en algo que no requiera mucha inversion, algun emprendimiento, actualmente tengo un trabajo pero pagan menos que el minimo y me cansa y deseo tener una forma mejor, mas flexible y que pueda hacerme me plata y estoy viendo opciones.\\n\\nEntre las cosas que ya probe esta el trading y lo relacionado a cripto, es rentable pero no tanto, y muy facil de perder lo que ganaste si haces algo mal, lo que si estuve pensando en algun tipo negocio de aplicacion de herramientas(o creacion de estas) de IA a negocios, enfocandose en pequeñas y medianas empresas, o tambien alguna tienda online para venta de productos al por mayor(mas para que empresarios compren sus productos de ahi, una especie de alibaba), o algo de servicios de marketing pero no se la demanda que estas pueden tener y no quiero inevrtir mucho tiempo en algo que no me vaya a servir en nada luego, que recomiendan o que ideas dicen pueda probar? tambien estaria bueno si dicen alguna app que les gustaria tener en su tel o un servicio que no haya o haya poco en el pais.  \n",
       "8  Me gustaría hablar sobre un tema un poco delicado: Cripto en Paraguay.\\n\\nÚltimamente, está teniendo un boom en Paraguay, con varias noticias sobre proyectos de ley y con varios exchanges locales. Lo que sí, quise probar y me fui a los tres más \"grandes\" o más renombrados: Cripex, Bitbase y X4T, además del P2P.\\n\\n\\nCripex parece que ya ni existe, su sitio web no funciona y no se puede contactar a nadie.\\n\\nEn Bitbase quise comprar Bitcoin por 200.000Gs. Primero, me dijeron que necesitaba una wallet propia, cosa que no tenía. En la tienda venden algunas, pero cuestan más de 100$ y son mucho más caras que en Amazon y otros lugares. Un amigo mío tiene una wallet para recibir Bitcoin, así que lo hicimos con su wallet. Y ahí vino la gran sorpresa:  \\nen una compra de 200.000Gs hubo una comisión de 36.373Gs, ~18,37%. Además, nos dieron un tipo de cambio falso. El tipo de cambio oficial era 1BTC=213.251.786 en julio del año pasado cuando compré. El tipo de cambio de Bitbase era 1BTC=274.857.417. Eso es una diferencia de casi el 28,89%. Si sumamos ambas \"comisiones\", Bitbase cobró una comisión de 47,26% sobre una compra de 200.000Gs, unos 94.520Gs. No me avisaron de estas comisiones antes y me siento estafado.\\n\\nDespués escuché sobre X4T, una exchange nueva acá en Paraguay. El registro fue rápido y también te dan una wallet gratuita para recibir, enviar y comprar Cripto. Ahí también podes comprar Cripto por efectivo o vender. Además, ofrecen transferencias bancarias y ahora una tarjeta de débito, que para mí en lo personal es cara, pero para los que están bien metidos en el mundo Cripto y valoran la anonimidad, les puede interesar. No hubo comisiones para el depósito, solo cobran 2%-3% para retirar. El soporte es súper útil y me explicaron todo lo importante como novato, además pude contactar al soporte vía WhatsApp para cualquier otra duda.\\n\\nMi amigo mencionó que siempre hace P2P. En este caso, te encuentras con un comprador/vendedor, según lo que necesites, y podes cambiar cripto por efectivo. Se encuentran en la casa de alguien o en otro lugar y ahí hacen la transacción. A él le funciona bien, pero es un proceso increíblemente complicado para principiantes y además mucho mas caro. Los vendedores cobran entre 6%-15%, lo hacen de manera ilegal y todo el negocio se basa en \"confianza\".\\n\\nTengo curiosidad de ver hacia dónde va todo esto del Cripto y qué dice nuestro gobierno. Personalmente, me gustaría que los bancos pierdan su monopolio y que Bancard no controle todas las finanzas del país.  \n",
       "9                                                                                                                                                                                                                                                                                                                                                                                                                                                                                                                                                                                                                                                                                                                                                                                                                                                                                                                                                                                                                                                                                                                                                                                                                                                                                                                                                                                                                                                                                                                                                                                                                                                                                                                                                                                                                                                                                                                                                                                                                                                                                                                                                                                                                                                                                                                                                                                                                                                                                                                                                                                                                           (sin texto)  "
      ]
     },
     "execution_count": 9,
     "metadata": {},
     "output_type": "execute_result"
    }
   ],
   "source": [
    "df.head(10)"
   ]
  },
  {
   "cell_type": "markdown",
   "id": "196628a4-73b4-4c96-8176-444addc81f03",
   "metadata": {},
   "source": [
    "# Criterios de etiqueta de datos [POSITIVO | NEGATIVO | NEUTRAL]"
   ]
  },
  {
   "cell_type": "code",
   "execution_count": 10,
   "id": "05628aca-a7ea-4bfa-8b00-9501f7155543",
   "metadata": {},
   "outputs": [
    {
     "data": {
      "text/html": [
       "<div>\n",
       "<style scoped>\n",
       "    .dataframe tbody tr th:only-of-type {\n",
       "        vertical-align: middle;\n",
       "    }\n",
       "\n",
       "    .dataframe tbody tr th {\n",
       "        vertical-align: top;\n",
       "    }\n",
       "\n",
       "    .dataframe thead th {\n",
       "        text-align: right;\n",
       "    }\n",
       "</style>\n",
       "<table border=\"1\" class=\"dataframe\">\n",
       "  <thead>\n",
       "    <tr style=\"text-align: right;\">\n",
       "      <th></th>\n",
       "      <th>Etiqueta</th>\n",
       "      <th>Significado</th>\n",
       "    </tr>\n",
       "  </thead>\n",
       "  <tbody>\n",
       "    <tr>\n",
       "      <th>0</th>\n",
       "      <td>Positivo</td>\n",
       "      <td>Entusiasmo, interés o experiencias positivas sobre cripto</td>\n",
       "    </tr>\n",
       "    <tr>\n",
       "      <th>1</th>\n",
       "      <td>Negativo</td>\n",
       "      <td>Frustración, desconfianza, crítica o experiencias negativas</td>\n",
       "    </tr>\n",
       "    <tr>\n",
       "      <th>2</th>\n",
       "      <td>Neutral</td>\n",
       "      <td>No expresa emoción clara; es solo una consulta, hecho o mención superficial. Habla de otro tema y menciona cripto tangencialmente o no es una opinión</td>\n",
       "    </tr>\n",
       "  </tbody>\n",
       "</table>\n",
       "</div>"
      ],
      "text/plain": [
       "   Etiqueta  \\\n",
       "0  Positivo   \n",
       "1  Negativo   \n",
       "2   Neutral   \n",
       "\n",
       "                                                                                                                                             Significado  \n",
       "0                                                                                              Entusiasmo, interés o experiencias positivas sobre cripto  \n",
       "1                                                                                            Frustración, desconfianza, crítica o experiencias negativas  \n",
       "2  No expresa emoción clara; es solo una consulta, hecho o mención superficial. Habla de otro tema y menciona cripto tangencialmente o no es una opinión  "
      ]
     },
     "execution_count": 10,
     "metadata": {},
     "output_type": "execute_result"
    }
   ],
   "source": [
    "criterios = {\n",
    "    \"Etiqueta\": [\"Positivo\", \"Negativo\", \"Neutral\"],\n",
    "    \"Significado\": [\n",
    "        \"Entusiasmo, interés o experiencias positivas sobre cripto\",\n",
    "        \"Frustración, desconfianza, crítica o experiencias negativas\",\n",
    "        \"No expresa emoción clara; es solo una consulta, hecho o mención superficial. Habla de otro tema y menciona cripto tangencialmente o no es una opinión\"\n",
    "    ]\n",
    "}\n",
    "\n",
    "df_criterios = pd.DataFrame(criterios)\n",
    "df_criterios"
   ]
  },
  {
   "cell_type": "markdown",
   "id": "365ac16d-8822-4e40-bdf6-5c7ee2fe676f",
   "metadata": {},
   "source": [
    "<hr/>"
   ]
  },
  {
   "cell_type": "code",
   "execution_count": 11,
   "id": "aa6352d0-a58d-4648-96f4-f97ae6c4483d",
   "metadata": {},
   "outputs": [
    {
     "name": "stdout",
     "output_type": "stream",
     "text": [
      "<class 'pandas.core.frame.DataFrame'>\n",
      "RangeIndex: 124 entries, 0 to 123\n",
      "Data columns (total 3 columns):\n",
      " #   Column       Non-Null Count  Dtype \n",
      "---  ------       --------------  ----- \n",
      " 0   titulo       124 non-null    object\n",
      " 1   cuerpo       124 non-null    object\n",
      " 2   sentimiento  124 non-null    object\n",
      "dtypes: object(3)\n",
      "memory usage: 3.0+ KB\n"
     ]
    }
   ],
   "source": [
    "csv_file = \"data/posts/etiquetado.csv\"\n",
    "df_posts = pd.read_csv(csv_file)\n",
    "df_posts.info()"
   ]
  },
  {
   "cell_type": "code",
   "execution_count": 16,
   "id": "07977f54-0bef-41f9-a334-af7b098e7ece",
   "metadata": {},
   "outputs": [
    {
     "data": {
      "text/html": [
       "<div>\n",
       "<style scoped>\n",
       "    .dataframe tbody tr th:only-of-type {\n",
       "        vertical-align: middle;\n",
       "    }\n",
       "\n",
       "    .dataframe tbody tr th {\n",
       "        vertical-align: top;\n",
       "    }\n",
       "\n",
       "    .dataframe thead th {\n",
       "        text-align: right;\n",
       "    }\n",
       "</style>\n",
       "<table border=\"1\" class=\"dataframe\">\n",
       "  <thead>\n",
       "    <tr style=\"text-align: right;\">\n",
       "      <th></th>\n",
       "      <th>titulo</th>\n",
       "      <th>cuerpo</th>\n",
       "      <th>sentimiento</th>\n",
       "    </tr>\n",
       "  </thead>\n",
       "  <tbody>\n",
       "    <tr>\n",
       "      <th>0</th>\n",
       "      <td>Trading en Tiktok</td>\n",
       "      <td>Que onda derrepente cada vairo que ofrece su curso, antes co el novio de la onichan nms era pesado pero ahora se reproducieron   Hasta ese man que hacía tiktok de macanadas en el mercado 4 co hace TRADING, después esta ese Aquino que con un cripto cada tanto gua’u efectivizar y para colmo tiene gente boba que comenta toda la hora brooo líder espectacular quiero entrar al curso🙏🙏 tenes que irte de viaje también a dubai vos líder 🙏🙏🙏, se están volviendo peor que los colorados</td>\n",
       "      <td>NEGATIVO</td>\n",
       "    </tr>\n",
       "    <tr>\n",
       "      <th>1</th>\n",
       "      <td>Percibir salario desde trabajo remoto</td>\n",
       "      <td>Hola, el próximo mes empezaré a trabajar remoto para una multinacional extranjera. Puedo cobrar en USD o en cripto... Ustedes que todo lo saben... ¿Cuál es la mejor opción?\\nSi es en USD, ¿qué bancos recomiendan y por qué?  \\nSi es en cripto, ¿qué billeteras recomiendan y por qué?\\n  ¿Sería buena idea cobrar una parte en USD y el resto en cripto? Compartan su experiencia /tips</td>\n",
       "      <td>NEUTRAL</td>\n",
       "    </tr>\n",
       "    <tr>\n",
       "      <th>2</th>\n",
       "      <td>Apple gift cards</td>\n",
       "      <td>Tengo 400$ en Apple gift cards y quiero vender. Ya sea transferencia o cripto. \\nVendo 100$ de gift cards por 95$</td>\n",
       "      <td>NEUTRAL</td>\n",
       "    </tr>\n",
       "    <tr>\n",
       "      <th>3</th>\n",
       "      <td>Recibir pagos del exterior sin tener problemas con Set</td>\n",
       "      <td>Como paraguayo cual es la manera más simple de cobrar por trabajos que sea compatible freelancer y fiverr? Sin tener que hacer jugadas de convertir la plata a cripto, luego a euros y luego a guaraníes?</td>\n",
       "      <td>NEGATIVO</td>\n",
       "    </tr>\n",
       "    <tr>\n",
       "      <th>4</th>\n",
       "      <td>Tarjetas de credito cobrando en cripto</td>\n",
       "      <td>Alguien sabe si hay alguna forma de que ciertos bancos me habiliten tarjetas de credito si cobro en cripto?  Trabajo para una empresa de afuera y cobro en dolares, para ahorrarme gastos cobro en cripto pero ulltimamente estoy queriendo quitar tarjetas de credito y no se como poder blanquear eso, consejos?</td>\n",
       "      <td>NEUTRAL</td>\n",
       "    </tr>\n",
       "    <tr>\n",
       "      <th>5</th>\n",
       "      <td>Estaría interesante conocer personas que esten metidas en el mundo cripto y el trading para intercambiar palabras, escriban!!</td>\n",
       "      <td>(sin texto)</td>\n",
       "      <td>POSITIVO</td>\n",
       "    </tr>\n",
       "    <tr>\n",
       "      <th>6</th>\n",
       "      <td>Hay alguna forma práctica de cambiar cripto a Gs. para no residentes?</td>\n",
       "      <td>O sea, para alguien que no tenga cuenta bancaria allá. \\n\\nHay algún método confiable y que no te maten con la comisión?</td>\n",
       "      <td>NEUTRAL</td>\n",
       "    </tr>\n",
       "    <tr>\n",
       "      <th>7</th>\n",
       "      <td>Ganar plata en Paraguay siendo joven y con poco capital</td>\n",
       "      <td>Buenas, tengo 20 años y soy de Asuncion, estoy actualmente estudiando ing. informatica y estoy queriendo invertir en algo que no requiera mucha inversion, algun emprendimiento, actualmente tengo un trabajo pero pagan menos que el minimo y me cansa y deseo tener una forma mejor, mas flexible y que pueda hacerme me plata y estoy viendo opciones.\\n\\nEntre las cosas que ya probe esta el trading y lo relacionado a cripto, es rentable pero no tanto, y muy facil de perder lo que ganaste si haces algo mal, lo que si estuve pensando en algun tipo negocio de aplicacion de herramientas(o creacion de estas) de IA a negocios, enfocandose en pequeñas y medianas empresas, o tambien alguna tienda online para venta de productos al por mayor(mas para que empresarios compren sus productos de ahi, una especie de alibaba), o algo de servicios de marketing pero no se la demanda que estas pueden tener y no quiero inevrtir mucho tiempo en algo que no me vaya a servir en nada luego, que recomiendan o que ideas dicen pueda probar? tambien estaria bueno si dicen alguna app que les gustaria tener en su tel o un servicio que no haya o haya poco en el pais.</td>\n",
       "      <td>POSITIVO</td>\n",
       "    </tr>\n",
       "    <tr>\n",
       "      <th>8</th>\n",
       "      <td>Paraguay y criptomonedas</td>\n",
       "      <td>Me gustaría hablar sobre un tema un poco delicado: Cripto en Paraguay.\\n\\nÚltimamente, está teniendo un boom en Paraguay, con varias noticias sobre proyectos de ley y con varios exchanges locales. Lo que sí, quise probar y me fui a los tres más \"grandes\" o más renombrados: Cripex, Bitbase y X4T, además del P2P.\\n\\n\\nCripex parece que ya ni existe, su sitio web no funciona y no se puede contactar a nadie.\\n\\nEn Bitbase quise comprar Bitcoin por 200.000Gs. Primero, me dijeron que necesitaba una wallet propia, cosa que no tenía. En la tienda venden algunas, pero cuestan más de 100$ y son mucho más caras que en Amazon y otros lugares. Un amigo mío tiene una wallet para recibir Bitcoin, así que lo hicimos con su wallet. Y ahí vino la gran sorpresa:  \\nen una compra de 200.000Gs hubo una comisión de 36.373Gs, ~18,37%. Además, nos dieron un tipo de cambio falso. El tipo de cambio oficial era 1BTC=213.251.786 en julio del año pasado cuando compré. El tipo de cambio de Bitbase era 1BTC=274.857.417. Eso es una diferencia de casi el 28,89%. Si sumamos ambas \"comisiones\", Bitbase cobró una comisión de 47,26% sobre una compra de 200.000Gs, unos 94.520Gs. No me avisaron de estas comisiones antes y me siento estafado.\\n\\nDespués escuché sobre X4T, una exchange nueva acá en Paraguay. El registro fue rápido y también te dan una wallet gratuita para recibir, enviar y comprar Cripto. Ahí también podes comprar Cripto por efectivo o vender. Además, ofrecen transferencias bancarias y ahora una tarjeta de débito, que para mí en lo personal es cara, pero para los que están bien metidos en el mundo Cripto y valoran la anonimidad, les puede interesar. No hubo comisiones para el depósito, solo cobran 2%-3% para retirar. El soporte es súper útil y me explicaron todo lo importante como novato, además pude contactar al soporte vía WhatsApp para cualquier otra duda.\\n\\nMi amigo mencionó que siempre hace P2P. En este caso, te encuentras con un comprador/vendedor, según lo que necesites, y podes cambiar cripto por efectivo. Se encuentran en la casa de alguien o en otro lugar y ahí hacen la transacción. A él le funciona bien, pero es un proceso increíblemente complicado para principiantes y además mucho mas caro. Los vendedores cobran entre 6%-15%, lo hacen de manera ilegal y todo el negocio se basa en \"confianza\".\\n\\nTengo curiosidad de ver hacia dónde va todo esto del Cripto y qué dice nuestro gobierno. Personalmente, me gustaría que los bancos pierdan su monopolio y que Bancard no controle todas las finanzas del país.</td>\n",
       "      <td>NEGATIVO</td>\n",
       "    </tr>\n",
       "    <tr>\n",
       "      <th>9</th>\n",
       "      <td>Paraguay prohíbe cripto. Debo vender mi Bitcoin antes de la nuevo ley o que? No quiero estar criminal. No soy minador, solo tengo un poco Bitcoin como inversion.</td>\n",
       "      <td>(sin texto)</td>\n",
       "      <td>NEGATIVO</td>\n",
       "    </tr>\n",
       "  </tbody>\n",
       "</table>\n",
       "</div>"
      ],
      "text/plain": [
       "                                                                                                                                                              titulo  \\\n",
       "0                                                                                                                                                  Trading en Tiktok   \n",
       "1                                                                                                                              Percibir salario desde trabajo remoto   \n",
       "2                                                                                                                                                   Apple gift cards   \n",
       "3                                                                                                             Recibir pagos del exterior sin tener problemas con Set   \n",
       "4                                                                                                                             Tarjetas de credito cobrando en cripto   \n",
       "5                                      Estaría interesante conocer personas que esten metidas en el mundo cripto y el trading para intercambiar palabras, escriban!!   \n",
       "6                                                                                              Hay alguna forma práctica de cambiar cripto a Gs. para no residentes?   \n",
       "7                                                                                                            Ganar plata en Paraguay siendo joven y con poco capital   \n",
       "8                                                                                                                                           Paraguay y criptomonedas   \n",
       "9  Paraguay prohíbe cripto. Debo vender mi Bitcoin antes de la nuevo ley o que? No quiero estar criminal. No soy minador, solo tengo un poco Bitcoin como inversion.   \n",
       "\n",
       "                                                                                                                                                                                                                                                                                                                                                                                                                                                                                                                                                                                                                                                                                                                                                                                                                                                                                                                                                                                                                                                                                                                                                                                                                                                                                                                                                                                                                                                                                                                                                                                                                                                                                                                                                                                                                                                                                                                                                                                                                                                                                                                                                                                                                                                                                                                                                                                                                                                                                                                                                                                                                                 cuerpo  \\\n",
       "0                                                                                                                                                                                                                                                                                                                                                                                                                                                                                                                                                                                                                                                                                                                                                                                                                                                                                                                                                                                                                                                                                                                                                                                                                                                                                                                                                                                                                                                                                                                                                                                                                                                                                                                                                                                                                                                                                                                                                                                                                                                                                                                                        Que onda derrepente cada vairo que ofrece su curso, antes co el novio de la onichan nms era pesado pero ahora se reproducieron   Hasta ese man que hacía tiktok de macanadas en el mercado 4 co hace TRADING, después esta ese Aquino que con un cripto cada tanto gua’u efectivizar y para colmo tiene gente boba que comenta toda la hora brooo líder espectacular quiero entrar al curso🙏🙏 tenes que irte de viaje también a dubai vos líder 🙏🙏🙏, se están volviendo peor que los colorados   \n",
       "1                                                                                                                                                                                                                                                                                                                                                                                                                                                                                                                                                                                                                                                                                                                                                                                                                                                                                                                                                                                                                                                                                                                                                                                                                                                                                                                                                                                                                                                                                                                                                                                                                                                                                                                                                                                                                                                                                                                                                                                                                                                                                                                                                                                                                                           Hola, el próximo mes empezaré a trabajar remoto para una multinacional extranjera. Puedo cobrar en USD o en cripto... Ustedes que todo lo saben... ¿Cuál es la mejor opción?\\nSi es en USD, ¿qué bancos recomiendan y por qué?  \\nSi es en cripto, ¿qué billeteras recomiendan y por qué?\\n  ¿Sería buena idea cobrar una parte en USD y el resto en cripto? Compartan su experiencia /tips   \n",
       "2                                                                                                                                                                                                                                                                                                                                                                                                                                                                                                                                                                                                                                                                                                                                                                                                                                                                                                                                                                                                                                                                                                                                                                                                                                                                                                                                                                                                                                                                                                                                                                                                                                                                                                                                                                                                                                                                                                                                                                                                                                                                                                                                                                                                                                                                                                                                                                                                                                                                                                                     Tengo 400$ en Apple gift cards y quiero vender. Ya sea transferencia o cripto. \\nVendo 100$ de gift cards por 95$   \n",
       "3                                                                                                                                                                                                                                                                                                                                                                                                                                                                                                                                                                                                                                                                                                                                                                                                                                                                                                                                                                                                                                                                                                                                                                                                                                                                                                                                                                                                                                                                                                                                                                                                                                                                                                                                                                                                                                                                                                                                                                                                                                                                                                                                                                                                                                                                                                                                                                                                                             Como paraguayo cual es la manera más simple de cobrar por trabajos que sea compatible freelancer y fiverr? Sin tener que hacer jugadas de convertir la plata a cripto, luego a euros y luego a guaraníes?   \n",
       "4                                                                                                                                                                                                                                                                                                                                                                                                                                                                                                                                                                                                                                                                                                                                                                                                                                                                                                                                                                                                                                                                                                                                                                                                                                                                                                                                                                                                                                                                                                                                                                                                                                                                                                                                                                                                                                                                                                                                                                                                                                                                                                                                                                                                                                                                                                                    Alguien sabe si hay alguna forma de que ciertos bancos me habiliten tarjetas de credito si cobro en cripto?  Trabajo para una empresa de afuera y cobro en dolares, para ahorrarme gastos cobro en cripto pero ulltimamente estoy queriendo quitar tarjetas de credito y no se como poder blanquear eso, consejos?   \n",
       "5                                                                                                                                                                                                                                                                                                                                                                                                                                                                                                                                                                                                                                                                                                                                                                                                                                                                                                                                                                                                                                                                                                                                                                                                                                                                                                                                                                                                                                                                                                                                                                                                                                                                                                                                                                                                                                                                                                                                                                                                                                                                                                                                                                                                                                                                                                                                                                                                                                                                                                                                                                                                                           (sin texto)   \n",
       "6                                                                                                                                                                                                                                                                                                                                                                                                                                                                                                                                                                                                                                                                                                                                                                                                                                                                                                                                                                                                                                                                                                                                                                                                                                                                                                                                                                                                                                                                                                                                                                                                                                                                                                                                                                                                                                                                                                                                                                                                                                                                                                                                                                                                                                                                                                                                                                                                                                                                                                              O sea, para alguien que no tenga cuenta bancaria allá. \\n\\nHay algún método confiable y que no te maten con la comisión?   \n",
       "7                                                                                                                                                                                                                                                                                                                                                                                                                                                                                                                                                                                                                                                                                                                                                                                                                                                                                                                                                                                                                                                                                                                                                                                                                                                                                                                                                                                                                                             Buenas, tengo 20 años y soy de Asuncion, estoy actualmente estudiando ing. informatica y estoy queriendo invertir en algo que no requiera mucha inversion, algun emprendimiento, actualmente tengo un trabajo pero pagan menos que el minimo y me cansa y deseo tener una forma mejor, mas flexible y que pueda hacerme me plata y estoy viendo opciones.\\n\\nEntre las cosas que ya probe esta el trading y lo relacionado a cripto, es rentable pero no tanto, y muy facil de perder lo que ganaste si haces algo mal, lo que si estuve pensando en algun tipo negocio de aplicacion de herramientas(o creacion de estas) de IA a negocios, enfocandose en pequeñas y medianas empresas, o tambien alguna tienda online para venta de productos al por mayor(mas para que empresarios compren sus productos de ahi, una especie de alibaba), o algo de servicios de marketing pero no se la demanda que estas pueden tener y no quiero inevrtir mucho tiempo en algo que no me vaya a servir en nada luego, que recomiendan o que ideas dicen pueda probar? tambien estaria bueno si dicen alguna app que les gustaria tener en su tel o un servicio que no haya o haya poco en el pais.   \n",
       "8  Me gustaría hablar sobre un tema un poco delicado: Cripto en Paraguay.\\n\\nÚltimamente, está teniendo un boom en Paraguay, con varias noticias sobre proyectos de ley y con varios exchanges locales. Lo que sí, quise probar y me fui a los tres más \"grandes\" o más renombrados: Cripex, Bitbase y X4T, además del P2P.\\n\\n\\nCripex parece que ya ni existe, su sitio web no funciona y no se puede contactar a nadie.\\n\\nEn Bitbase quise comprar Bitcoin por 200.000Gs. Primero, me dijeron que necesitaba una wallet propia, cosa que no tenía. En la tienda venden algunas, pero cuestan más de 100$ y son mucho más caras que en Amazon y otros lugares. Un amigo mío tiene una wallet para recibir Bitcoin, así que lo hicimos con su wallet. Y ahí vino la gran sorpresa:  \\nen una compra de 200.000Gs hubo una comisión de 36.373Gs, ~18,37%. Además, nos dieron un tipo de cambio falso. El tipo de cambio oficial era 1BTC=213.251.786 en julio del año pasado cuando compré. El tipo de cambio de Bitbase era 1BTC=274.857.417. Eso es una diferencia de casi el 28,89%. Si sumamos ambas \"comisiones\", Bitbase cobró una comisión de 47,26% sobre una compra de 200.000Gs, unos 94.520Gs. No me avisaron de estas comisiones antes y me siento estafado.\\n\\nDespués escuché sobre X4T, una exchange nueva acá en Paraguay. El registro fue rápido y también te dan una wallet gratuita para recibir, enviar y comprar Cripto. Ahí también podes comprar Cripto por efectivo o vender. Además, ofrecen transferencias bancarias y ahora una tarjeta de débito, que para mí en lo personal es cara, pero para los que están bien metidos en el mundo Cripto y valoran la anonimidad, les puede interesar. No hubo comisiones para el depósito, solo cobran 2%-3% para retirar. El soporte es súper útil y me explicaron todo lo importante como novato, además pude contactar al soporte vía WhatsApp para cualquier otra duda.\\n\\nMi amigo mencionó que siempre hace P2P. En este caso, te encuentras con un comprador/vendedor, según lo que necesites, y podes cambiar cripto por efectivo. Se encuentran en la casa de alguien o en otro lugar y ahí hacen la transacción. A él le funciona bien, pero es un proceso increíblemente complicado para principiantes y además mucho mas caro. Los vendedores cobran entre 6%-15%, lo hacen de manera ilegal y todo el negocio se basa en \"confianza\".\\n\\nTengo curiosidad de ver hacia dónde va todo esto del Cripto y qué dice nuestro gobierno. Personalmente, me gustaría que los bancos pierdan su monopolio y que Bancard no controle todas las finanzas del país.   \n",
       "9                                                                                                                                                                                                                                                                                                                                                                                                                                                                                                                                                                                                                                                                                                                                                                                                                                                                                                                                                                                                                                                                                                                                                                                                                                                                                                                                                                                                                                                                                                                                                                                                                                                                                                                                                                                                                                                                                                                                                                                                                                                                                                                                                                                                                                                                                                                                                                                                                                                                                                                                                                                                                           (sin texto)   \n",
       "\n",
       "  sentimiento  \n",
       "0    NEGATIVO  \n",
       "1     NEUTRAL  \n",
       "2     NEUTRAL  \n",
       "3    NEGATIVO  \n",
       "4     NEUTRAL  \n",
       "5    POSITIVO  \n",
       "6     NEUTRAL  \n",
       "7    POSITIVO  \n",
       "8    NEGATIVO  \n",
       "9    NEGATIVO  "
      ]
     },
     "execution_count": 16,
     "metadata": {},
     "output_type": "execute_result"
    }
   ],
   "source": [
    "df_posts.head(10)"
   ]
  },
  {
   "cell_type": "markdown",
   "id": "4f891163-b614-47dc-abba-1769d463a08c",
   "metadata": {},
   "source": [
    "# Guardar comentarios de r/Paraguay relacionados a criptomonedas"
   ]
  },
  {
   "cell_type": "code",
   "execution_count": 13,
   "id": "7e01b549-0fc8-4cdc-beb1-de3e3fca4655",
   "metadata": {},
   "outputs": [
    {
     "name": "stdout",
     "output_type": "stream",
     "text": [
      "Se guardaron 249 comentarios en 'data/comentarios/original.csv'\n"
     ]
    }
   ],
   "source": [
    "def contiene_palabra_clave(texto, keywords):\n",
    "    texto = texto.lower()\n",
    "    return any(palabra in texto for palabra in keywords)\n",
    "\n",
    "def search_crypto_comments(reddit, subreddit_name, keywords):\n",
    "    resultados = []\n",
    "    subreddit = reddit.subreddit(subreddit_name)\n",
    "\n",
    "    for keyword in keywords:\n",
    "        query = f'title:{keyword}'\n",
    "        for post in subreddit.search(query, sort=\"new\", time_filter=\"all\", limit=None):\n",
    "            post.comments.replace_more(limit=0)\n",
    "            for comment in post.comments.list():\n",
    "                if contiene_palabra_clave(comment.body, keywords):\n",
    "                    body = re.sub(r\"http\\S+\", \"\", comment.body.strip())\n",
    "                    resultados.append({\n",
    "                        \"titulo\": post.title.strip(),\n",
    "                        \"cuerpo\": body\n",
    "                    })\n",
    "    \n",
    "    return resultados\n",
    "\n",
    "# Ejecutar búsqueda\n",
    "comments = search_crypto_comments(reddit, \"Paraguay\", CRYPTO_KEYWORDS)\n",
    "\n",
    "# Guardar resultados en CSV\n",
    "csv_file = \"data/comentarios/original.csv\"\n",
    "with open(csv_file, mode=\"w\", newline=\"\", encoding=\"utf-8\") as file:\n",
    "    writer = csv.DictWriter(file, fieldnames=[\"titulo\", \"cuerpo\"])\n",
    "    writer.writeheader()\n",
    "    for comment in comments:\n",
    "        writer.writerow(comment)\n",
    "\n",
    "print(f\"Se guardaron {len(comments)} comentarios en '{csv_file}'\")"
   ]
  },
  {
   "cell_type": "code",
   "execution_count": 14,
   "id": "f63b0c0e-eec0-46dc-a154-575e15eb31ca",
   "metadata": {},
   "outputs": [
    {
     "name": "stdout",
     "output_type": "stream",
     "text": [
      "<class 'pandas.core.frame.DataFrame'>\n",
      "Index: 222 entries, 0 to 248\n",
      "Data columns (total 2 columns):\n",
      " #   Column  Non-Null Count  Dtype \n",
      "---  ------  --------------  ----- \n",
      " 0   titulo  222 non-null    object\n",
      " 1   cuerpo  222 non-null    object\n",
      "dtypes: object(2)\n",
      "memory usage: 5.2+ KB\n"
     ]
    }
   ],
   "source": [
    "df = pd.read_csv(csv_file)\n",
    "df = df.drop_duplicates()\n",
    "df.info()"
   ]
  },
  {
   "cell_type": "code",
   "execution_count": 15,
   "id": "2029813f-a098-49c6-9747-22118946a3f0",
   "metadata": {},
   "outputs": [],
   "source": [
    "df.to_csv(csv_file)"
   ]
  }
 ],
 "metadata": {
  "kernelspec": {
   "display_name": "Python 3 (ipykernel)",
   "language": "python",
   "name": "python3"
  },
  "language_info": {
   "codemirror_mode": {
    "name": "ipython",
    "version": 3
   },
   "file_extension": ".py",
   "mimetype": "text/x-python",
   "name": "python",
   "nbconvert_exporter": "python",
   "pygments_lexer": "ipython3",
   "version": "3.10.18"
  }
 },
 "nbformat": 4,
 "nbformat_minor": 5
}
